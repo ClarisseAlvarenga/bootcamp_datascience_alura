{
  "nbformat": 4,
  "nbformat_minor": 0,
  "metadata": {
    "colab": {
      "name": "Clarisse_Alvarenga_Projeto_Bootcamp_Módulo_01.ipynb",
      "provenance": []
    },
    "kernelspec": {
      "name": "python3",
      "display_name": "Python 3"
    }
  },
  "cells": [
    {
      "cell_type": "markdown",
      "metadata": {
        "id": "E27fQer3E8K9"
      },
      "source": [
        "Olá **Cientista**!\n",
        "\n",
        "Bem vinda e bem vindo ao **mega desafio do Módulo 01**, neste desafio queremos que você aplique tudo que aprendeu no curso, analisando uma outra informação ~~referente a base de dados de [produção hospitalar](http://www2.datasus.gov.br/DATASUS/index.php?area=0202&id=11633&VObj=http://tabnet.datasus.gov.br/cgi/deftohtm.exe?sih/cnv/qi), seja número de internação, óbito, AIH ou taxa de mortalidade.~~ \n",
        "\n",
        "**P.S: Infelizmente o DataSUS está fora do ar por tempo indeterminado, para você não parar seu projeto, adicionamos no [GitHub](https://github.com/alura-cursos/agendamento-hospitalar/tree/main/dados) do curso, duas novas bases para você utilizar neste projeto (COVID-19 e Óbitos).**\n",
        "\n",
        "Uma base é dos **casos de COVID-19 baixadas do projeto [BRASIL.IO](https://brasil.io/dataset/covid19/caso/)**, outra são os números de óbitos registrados no cartório civil desde 1970 retirado do **[Kaggle](https://www.kaggle.com/amandalk/registered-deaths-brazil)**.\n",
        "\n",
        "Vocês podem escolher qualquer uma das duas bases de dados, a de COVID-19 é mais desafiadora e você vai precisar descompactar o arquivo por ser grande e entrar no site do Brasil.IO para entender todas as features presentes (No Brasil.IO tem diversas bases sobre COVID-19, estamos usando a chamada **Casos**). A base de óbito é mais simples e relativamente semelhate a utilizada no curso.\n",
        "\n",
        "Algumas dicas para você mandar bem no desafio final, capriche nas análises, escreva suas conclusões e hipóteses (mesmo que resultado seja inconclusivo) e não esqueça de colocar um resumo dos pontos que julgar mais interessantes do seu projeto.\n",
        "\n",
        "\n",
        "\n",
        "E para que o seu projeto tenha a oportunidade de ser avalido pelo Thiago G. Santos e Átila Iamarino, ao vivo na **live de revisão de projetos** submeta o link compartilhado do seu notebook [neste formulário](https://docs.google.com/forms/d/e/1FAIpQLSd1jemhvdo8sM6e-bgOryyZ2P3YuMO6E_mUQXabyBX_xhuZQQ/viewform?usp=sf_link) até dia 22/11 às 23h59.\n",
        "\n",
        "Para facilitar a vida dos seus instrutores favoritos, no momento da correção, algumas dicas de como estruturar seu projeto:\n",
        "\n",
        "- Como título do seu **Colab** coloque seu nome (Ex: Thiago_Gonçalves.ipynb)\n",
        "- Crie um resumo das suas análises na parte superior do notebook\n",
        "- Informe no resumo os dados que vc vai analisar (Ex: Finaceiros e Internações)\n",
        "\n",
        "Qualquer dúvida não deixe de perguntar no Discord, compatilhe seu projeto nas redes sociais e crie um repositório no github, esse é o início do seu portifólio em Data Science.\n",
        "\n",
        "\n",
        "\n",
        "Fique a vontade para utilizar esse notebook como template projeto.\n",
        "\n"
      ]
    },
    {
      "cell_type": "markdown",
      "metadata": {
        "id": "RshO3GgDFGhB"
      },
      "source": [
        "## Resumo:\n",
        "\n",
        "Faça aqui o resumo das suas analises, destacando os pontos principais do seu projeto"
      ]
    },
    {
      "cell_type": "code",
      "metadata": {
        "id": "BUHuWTjaFGMV"
      },
      "source": [
        ""
      ],
      "execution_count": 161,
      "outputs": []
    },
    {
      "cell_type": "markdown",
      "metadata": {
        "id": "YJaNprdeFN7n"
      },
      "source": [
        "## Análise dos dados:\n",
        "\n",
        "Inicie aqui o desenvolvimento do seu projeto, não esqueça de adicionar textos curtos e objetivos para que os avaliadores entendam sua linha de raciocínio e as conclusões que você está chegando crie uma narrativa convincente e coerênte aos dados analisados."
      ]
    },
    {
      "cell_type": "markdown",
      "metadata": {
        "id": "0uZ6LKD0l11A"
      },
      "source": [
        "### Importando Bibliotecas"
      ]
    },
    {
      "cell_type": "code",
      "metadata": {
        "id": "aAmVVfIql6i7"
      },
      "source": [
        "import pandas as pd\n",
        "import numpy as np\n",
        "import matplotlib.pyplot as plt\n",
        "import  matplotlib.ticker as ticker #um formatador de ticks dos gráficos\n",
        "import seaborn as sns"
      ],
      "execution_count": 162,
      "outputs": []
    },
    {
      "cell_type": "code",
      "metadata": {
        "id": "iCXpIt4H9RGV"
      },
      "source": [
        "#chamando as opções de formatação numérica\n",
        "#incluindo opções de visualização do pandas - globalmente\n",
        "pd.options.display.float_format = \"{:,.2f}\".format"
      ],
      "execution_count": 163,
      "outputs": []
    },
    {
      "cell_type": "markdown",
      "metadata": {
        "id": "OMdRxi_OnOD8"
      },
      "source": [
        "### Primeiras explorações"
      ]
    },
    {
      "cell_type": "code",
      "metadata": {
        "id": "zw4S_LkkFNa2"
      },
      "source": [
        "#Criando variáveis para os dois bancos de dados que vamos estudar para escolher qual vamos usar\n",
        "fonte1 = 'https://raw.githubusercontent.com/alura-cursos/agendamento-hospitalar/main/dados/obitos-registro-civil.csv'\n",
        "fonte2 = 'caso.csv'\n"
      ],
      "execution_count": 164,
      "outputs": []
    },
    {
      "cell_type": "code",
      "metadata": {
        "id": "wWHrc23HMW07"
      },
      "source": [
        "#lendo os dois datasets\n",
        "obitos = pd.read_csv(fonte1) #óbitos por mês e estado no Brasil, desde 1970\n",
        "covid = pd.read_csv(fonte2) #casos de COVID19\n"
      ],
      "execution_count": 165,
      "outputs": []
    },
    {
      "cell_type": "code",
      "metadata": {
        "id": "0wk8vmrjnpmd",
        "outputId": "34d1debe-6ea6-40fe-c7e2-8b7636075923",
        "colab": {
          "base_uri": "https://localhost:8080/",
          "height": 309
        }
      },
      "source": [
        "#pegando uma amostra dos dados de covid para conhecer as variáveis\n",
        "covid.sample(5)"
      ],
      "execution_count": 166,
      "outputs": [
        {
          "output_type": "execute_result",
          "data": {
            "text/html": [
              "<div>\n",
              "<style scoped>\n",
              "    .dataframe tbody tr th:only-of-type {\n",
              "        vertical-align: middle;\n",
              "    }\n",
              "\n",
              "    .dataframe tbody tr th {\n",
              "        vertical-align: top;\n",
              "    }\n",
              "\n",
              "    .dataframe thead th {\n",
              "        text-align: right;\n",
              "    }\n",
              "</style>\n",
              "<table border=\"1\" class=\"dataframe\">\n",
              "  <thead>\n",
              "    <tr style=\"text-align: right;\">\n",
              "      <th></th>\n",
              "      <th>date</th>\n",
              "      <th>state</th>\n",
              "      <th>city</th>\n",
              "      <th>place_type</th>\n",
              "      <th>confirmed</th>\n",
              "      <th>deaths</th>\n",
              "      <th>order_for_place</th>\n",
              "      <th>is_last</th>\n",
              "      <th>estimated_population_2019</th>\n",
              "      <th>estimated_population</th>\n",
              "      <th>city_ibge_code</th>\n",
              "      <th>confirmed_per_100k_inhabitants</th>\n",
              "      <th>death_rate</th>\n",
              "    </tr>\n",
              "  </thead>\n",
              "  <tbody>\n",
              "    <tr>\n",
              "      <th>100259</th>\n",
              "      <td>2020-05-20</td>\n",
              "      <td>BA</td>\n",
              "      <td>Caetité</td>\n",
              "      <td>city</td>\n",
              "      <td>1</td>\n",
              "      <td>0</td>\n",
              "      <td>2</td>\n",
              "      <td>False</td>\n",
              "      <td>50,975.00</td>\n",
              "      <td>51,081.00</td>\n",
              "      <td>2,905,206.00</td>\n",
              "      <td>1.96</td>\n",
              "      <td>0.00</td>\n",
              "    </tr>\n",
              "    <tr>\n",
              "      <th>333726</th>\n",
              "      <td>2020-10-19</td>\n",
              "      <td>PB</td>\n",
              "      <td>Tavares</td>\n",
              "      <td>city</td>\n",
              "      <td>216</td>\n",
              "      <td>2</td>\n",
              "      <td>150</td>\n",
              "      <td>False</td>\n",
              "      <td>14,726.00</td>\n",
              "      <td>14,759.00</td>\n",
              "      <td>2,516,607.00</td>\n",
              "      <td>1,463.51</td>\n",
              "      <td>0.01</td>\n",
              "    </tr>\n",
              "    <tr>\n",
              "      <th>58882</th>\n",
              "      <td>2020-05-07</td>\n",
              "      <td>CE</td>\n",
              "      <td>Jaguaruana</td>\n",
              "      <td>city</td>\n",
              "      <td>7</td>\n",
              "      <td>1</td>\n",
              "      <td>20</td>\n",
              "      <td>False</td>\n",
              "      <td>33,705.00</td>\n",
              "      <td>33,834.00</td>\n",
              "      <td>2,307,007.00</td>\n",
              "      <td>20.69</td>\n",
              "      <td>0.14</td>\n",
              "    </tr>\n",
              "    <tr>\n",
              "      <th>26776</th>\n",
              "      <td>2020-10-12</td>\n",
              "      <td>AL</td>\n",
              "      <td>Jacuípe</td>\n",
              "      <td>city</td>\n",
              "      <td>63</td>\n",
              "      <td>2</td>\n",
              "      <td>150</td>\n",
              "      <td>False</td>\n",
              "      <td>7,021.00</td>\n",
              "      <td>7,006.00</td>\n",
              "      <td>2,703,502.00</td>\n",
              "      <td>899.23</td>\n",
              "      <td>0.03</td>\n",
              "    </tr>\n",
              "    <tr>\n",
              "      <th>539005</th>\n",
              "      <td>2020-06-27</td>\n",
              "      <td>MG</td>\n",
              "      <td>Águas Formosas</td>\n",
              "      <td>city</td>\n",
              "      <td>7</td>\n",
              "      <td>0</td>\n",
              "      <td>24</td>\n",
              "      <td>False</td>\n",
              "      <td>19,207.00</td>\n",
              "      <td>19,247.00</td>\n",
              "      <td>3,100,906.00</td>\n",
              "      <td>36.37</td>\n",
              "      <td>0.00</td>\n",
              "    </tr>\n",
              "  </tbody>\n",
              "</table>\n",
              "</div>"
            ],
            "text/plain": [
              "              date state  ... confirmed_per_100k_inhabitants death_rate\n",
              "100259  2020-05-20    BA  ...                           1.96       0.00\n",
              "333726  2020-10-19    PB  ...                       1,463.51       0.01\n",
              "58882   2020-05-07    CE  ...                          20.69       0.14\n",
              "26776   2020-10-12    AL  ...                         899.23       0.03\n",
              "539005  2020-06-27    MG  ...                          36.37       0.00\n",
              "\n",
              "[5 rows x 13 columns]"
            ]
          },
          "metadata": {
            "tags": []
          },
          "execution_count": 166
        }
      ]
    },
    {
      "cell_type": "code",
      "metadata": {
        "id": "6PGTeDSSn_c1",
        "outputId": "20f00326-26ee-4d37-9387-4c5397c442d7",
        "colab": {
          "base_uri": "https://localhost:8080/",
          "height": 202
        }
      },
      "source": [
        "#fazendo a mesma coisa para o dataset de óbitos\n",
        "obitos.tail(5)"
      ],
      "execution_count": 167,
      "outputs": [
        {
          "output_type": "execute_result",
          "data": {
            "text/html": [
              "<div>\n",
              "<style scoped>\n",
              "    .dataframe tbody tr th:only-of-type {\n",
              "        vertical-align: middle;\n",
              "    }\n",
              "\n",
              "    .dataframe tbody tr th {\n",
              "        vertical-align: top;\n",
              "    }\n",
              "\n",
              "    .dataframe thead th {\n",
              "        text-align: right;\n",
              "    }\n",
              "</style>\n",
              "<table border=\"1\" class=\"dataframe\">\n",
              "  <thead>\n",
              "    <tr style=\"text-align: right;\">\n",
              "      <th></th>\n",
              "      <th>year</th>\n",
              "      <th>month</th>\n",
              "      <th>state</th>\n",
              "      <th>deaths</th>\n",
              "    </tr>\n",
              "  </thead>\n",
              "  <tbody>\n",
              "    <tr>\n",
              "      <th>15025</th>\n",
              "      <td>2020</td>\n",
              "      <td>8</td>\n",
              "      <td>RR</td>\n",
              "      <td>86</td>\n",
              "    </tr>\n",
              "    <tr>\n",
              "      <th>15026</th>\n",
              "      <td>2020</td>\n",
              "      <td>8</td>\n",
              "      <td>SC</td>\n",
              "      <td>4666</td>\n",
              "    </tr>\n",
              "    <tr>\n",
              "      <th>15027</th>\n",
              "      <td>2020</td>\n",
              "      <td>8</td>\n",
              "      <td>SP</td>\n",
              "      <td>31782</td>\n",
              "    </tr>\n",
              "    <tr>\n",
              "      <th>15028</th>\n",
              "      <td>2020</td>\n",
              "      <td>8</td>\n",
              "      <td>SE</td>\n",
              "      <td>1452</td>\n",
              "    </tr>\n",
              "    <tr>\n",
              "      <th>15029</th>\n",
              "      <td>2020</td>\n",
              "      <td>8</td>\n",
              "      <td>TO</td>\n",
              "      <td>741</td>\n",
              "    </tr>\n",
              "  </tbody>\n",
              "</table>\n",
              "</div>"
            ],
            "text/plain": [
              "       year  month state  deaths\n",
              "15025  2020      8    RR      86\n",
              "15026  2020      8    SC    4666\n",
              "15027  2020      8    SP   31782\n",
              "15028  2020      8    SE    1452\n",
              "15029  2020      8    TO     741"
            ]
          },
          "metadata": {
            "tags": []
          },
          "execution_count": 167
        }
      ]
    },
    {
      "cell_type": "markdown",
      "metadata": {
        "id": "o7b5PfLTpGWM"
      },
      "source": [
        "#### Vendo o tamanho e as informações gerais dos datasets"
      ]
    },
    {
      "cell_type": "code",
      "metadata": {
        "id": "Kd4-1BYCo57B",
        "outputId": "8daf9e7b-48d6-4f92-8601-05327bb6d32b",
        "colab": {
          "base_uri": "https://localhost:8080/"
        }
      },
      "source": [
        "#vendo quantas observações temos em cada um dos datasets\n",
        "print(covid.shape, obitos.shape)\n",
        "print(f'O dataset de dados da COVID possui {covid.shape[0]} observações e {covid.shape[1]} variáveis')\n",
        "print(f'O dataset de dados de Óbitos possui {obitos.shape[0]} observações e {obitos.shape[1]} variáveis')"
      ],
      "execution_count": 168,
      "outputs": [
        {
          "output_type": "stream",
          "text": [
            "(936870, 13) (15030, 4)\n",
            "O dataset de dados da COVID possui 936870 observações e 13 variáveis\n",
            "O dataset de dados de Óbitos possui 15030 observações e 4 variáveis\n"
          ],
          "name": "stdout"
        }
      ]
    },
    {
      "cell_type": "markdown",
      "metadata": {
        "id": "dq6uzsozqMlo"
      },
      "source": [
        "Vamos usar o info() para saber os tipos de variável do dataset e também para ver se há algum dado nulo nos datasets que tenha de ser tratado. Como os dois datasets possuem uma relação com data, é uma oportunidade para ver se as colunas referentes a data são do tipo *datetime*."
      ]
    },
    {
      "cell_type": "code",
      "metadata": {
        "id": "Scx5WbyfpXDL",
        "outputId": "ead03ed1-e6c3-4fd7-e931-3caaaf60b2d9",
        "colab": {
          "base_uri": "https://localhost:8080/"
        }
      },
      "source": [
        "#usando o info para saber os tipos de variáveis que possuímos\n",
        "covid.info()\n",
        "#deste resultado podemos ver que há dados faltantes nas colunas de cidade, população estimada em 2019, \n",
        "#população estimada, código da cidade no IBGE e mortes confirmadas por 100mil habitantes.\n",
        "#minha primeira hipótese é que boa parte destes dados nulos estejam concentrados quando o tipo de lugar é estado e não município"
      ],
      "execution_count": 169,
      "outputs": [
        {
          "output_type": "stream",
          "text": [
            "<class 'pandas.core.frame.DataFrame'>\n",
            "RangeIndex: 936870 entries, 0 to 936869\n",
            "Data columns (total 13 columns):\n",
            " #   Column                          Non-Null Count   Dtype  \n",
            "---  ------                          --------------   -----  \n",
            " 0   date                            936870 non-null  object \n",
            " 1   state                           936870 non-null  object \n",
            " 2   city                            930535 non-null  object \n",
            " 3   place_type                      936870 non-null  object \n",
            " 4   confirmed                       936870 non-null  int64  \n",
            " 5   deaths                          936870 non-null  int64  \n",
            " 6   order_for_place                 936870 non-null  int64  \n",
            " 7   is_last                         936870 non-null  bool   \n",
            " 8   estimated_population_2019       933215 non-null  float64\n",
            " 9   estimated_population            933215 non-null  float64\n",
            " 10  city_ibge_code                  933215 non-null  float64\n",
            " 11  confirmed_per_100k_inhabitants  919888 non-null  float64\n",
            " 12  death_rate                      936870 non-null  float64\n",
            "dtypes: bool(1), float64(5), int64(3), object(4)\n",
            "memory usage: 86.7+ MB\n"
          ],
          "name": "stdout"
        }
      ]
    },
    {
      "cell_type": "code",
      "metadata": {
        "id": "6BTJryqpp_wS",
        "outputId": "69a772aa-9e9a-4b9d-f5fc-7f624565d56d",
        "colab": {
          "base_uri": "https://localhost:8080/"
        }
      },
      "source": [
        "#não há nenhuma informação nula neste dataset\n",
        "obitos.info()"
      ],
      "execution_count": 170,
      "outputs": [
        {
          "output_type": "stream",
          "text": [
            "<class 'pandas.core.frame.DataFrame'>\n",
            "RangeIndex: 15030 entries, 0 to 15029\n",
            "Data columns (total 4 columns):\n",
            " #   Column  Non-Null Count  Dtype \n",
            "---  ------  --------------  ----- \n",
            " 0   year    15030 non-null  int64 \n",
            " 1   month   15030 non-null  int64 \n",
            " 2   state   15030 non-null  object\n",
            " 3   deaths  15030 non-null  int64 \n",
            "dtypes: int64(3), object(1)\n",
            "memory usage: 469.8+ KB\n"
          ],
          "name": "stdout"
        }
      ]
    },
    {
      "cell_type": "markdown",
      "metadata": {
        "id": "__1MbsQwyRND"
      },
      "source": [
        "#### A partir deste momento vamos trabalhar apenas com o Dataset de COVID, vamos usar o de óbitos só para fazer uma visualização dos óbitos em 2020 totais comparados com os óbitos por COVID"
      ]
    },
    {
      "cell_type": "code",
      "metadata": {
        "id": "pq5DSGceqt_T",
        "outputId": "d122d4b8-08e2-4af7-d4c1-ca7b6f90c832",
        "colab": {
          "base_uri": "https://localhost:8080/"
        }
      },
      "source": [
        "#conferindo nulos usando outra função - somente para o dataset de COVID\n",
        "covid.isna().sum()"
      ],
      "execution_count": 171,
      "outputs": [
        {
          "output_type": "execute_result",
          "data": {
            "text/plain": [
              "date                                  0\n",
              "state                                 0\n",
              "city                               6335\n",
              "place_type                            0\n",
              "confirmed                             0\n",
              "deaths                                0\n",
              "order_for_place                       0\n",
              "is_last                               0\n",
              "estimated_population_2019          3655\n",
              "estimated_population               3655\n",
              "city_ibge_code                     3655\n",
              "confirmed_per_100k_inhabitants    16982\n",
              "death_rate                            0\n",
              "dtype: int64"
            ]
          },
          "metadata": {
            "tags": []
          },
          "execution_count": 171
        }
      ]
    },
    {
      "cell_type": "code",
      "metadata": {
        "id": "azfFe5h6r_Iv",
        "outputId": "41549c09-9dba-47b8-9a0e-252e45cc24ad",
        "colab": {
          "base_uri": "https://localhost:8080/"
        }
      },
      "source": [
        "#vou ver a porcentagem de observações nulas em 3 observações: Cidade, código da cidade no IBGE e mortes confirmadas\n",
        "print(f'O percentual de dados nulos na coluna city é de {((covid.city.isna().sum()/covid.shape[0])*100).round(2)}%')\n",
        "print(f'O percentual de dados nulos na coluna confirmed_per_100k_inhabitants é de {((covid.confirmed_per_100k_inhabitants.isna().sum()/covid.shape[0])*100).round(2)}%')\n",
        "print(f'O percentual de dados nulos na coluna city_ibge_code é de {((covid.city_ibge_code.isna().sum()/covid.shape[0])*100).round(2)}%')\n"
      ],
      "execution_count": 172,
      "outputs": [
        {
          "output_type": "stream",
          "text": [
            "O percentual de dados nulos na coluna city é de 0.68%\n",
            "O percentual de dados nulos na coluna confirmed_per_100k_inhabitants é de 1.81%\n",
            "O percentual de dados nulos na coluna city_ibge_code é de 0.39%\n"
          ],
          "name": "stdout"
        }
      ]
    },
    {
      "cell_type": "markdown",
      "metadata": {
        "id": "VKpA_E9-wmXZ"
      },
      "source": [
        "Baseado na documentação do DataSet de casos de COVID no site, vamos excluir a coluna de população estimada em 2019, pois contém dados desatualizados e as outras medições usam a população estimada em 2020"
      ]
    },
    {
      "cell_type": "code",
      "metadata": {
        "id": "hdLVfjG3suwn"
      },
      "source": [
        "#excluindo a coluna\n",
        "dados = covid.drop('estimated_population_2019', axis=1)"
      ],
      "execution_count": 173,
      "outputs": []
    },
    {
      "cell_type": "markdown",
      "metadata": {
        "id": "1y6yAQVix-w7"
      },
      "source": [
        "Vamos também alterar a coluna date para que seja do tipo *datetime*"
      ]
    },
    {
      "cell_type": "code",
      "metadata": {
        "id": "_buBN2LAxleA"
      },
      "source": [
        "#convertendo para datetime\n",
        "dados['date'] = pd.to_datetime(dados['date'], yearfirst=True)"
      ],
      "execution_count": 174,
      "outputs": []
    },
    {
      "cell_type": "markdown",
      "metadata": {
        "id": "U1dlty-XO7qm"
      },
      "source": [
        "Vamos incluir uma coluna com as mortes por 100K habitantes"
      ]
    },
    {
      "cell_type": "code",
      "metadata": {
        "id": "6zcQPsFhMEF1"
      },
      "source": [
        "dados['deaths_covid_per_100K_inhabitants'] = dados['deaths']/(dados['estimated_population']/100000)"
      ],
      "execution_count": 175,
      "outputs": []
    },
    {
      "cell_type": "code",
      "metadata": {
        "id": "XxFb_IFbPBbr",
        "outputId": "ce596088-64d5-46a2-c76f-732e5e964c7a",
        "colab": {
          "base_uri": "https://localhost:8080/",
          "height": 309
        }
      },
      "source": [
        "dados.head()"
      ],
      "execution_count": 176,
      "outputs": [
        {
          "output_type": "execute_result",
          "data": {
            "text/html": [
              "<div>\n",
              "<style scoped>\n",
              "    .dataframe tbody tr th:only-of-type {\n",
              "        vertical-align: middle;\n",
              "    }\n",
              "\n",
              "    .dataframe tbody tr th {\n",
              "        vertical-align: top;\n",
              "    }\n",
              "\n",
              "    .dataframe thead th {\n",
              "        text-align: right;\n",
              "    }\n",
              "</style>\n",
              "<table border=\"1\" class=\"dataframe\">\n",
              "  <thead>\n",
              "    <tr style=\"text-align: right;\">\n",
              "      <th></th>\n",
              "      <th>date</th>\n",
              "      <th>state</th>\n",
              "      <th>city</th>\n",
              "      <th>place_type</th>\n",
              "      <th>confirmed</th>\n",
              "      <th>deaths</th>\n",
              "      <th>order_for_place</th>\n",
              "      <th>is_last</th>\n",
              "      <th>estimated_population</th>\n",
              "      <th>city_ibge_code</th>\n",
              "      <th>confirmed_per_100k_inhabitants</th>\n",
              "      <th>death_rate</th>\n",
              "      <th>deaths_covid_per_100K_inhabitants</th>\n",
              "    </tr>\n",
              "  </thead>\n",
              "  <tbody>\n",
              "    <tr>\n",
              "      <th>0</th>\n",
              "      <td>2020-11-05</td>\n",
              "      <td>AC</td>\n",
              "      <td>NaN</td>\n",
              "      <td>state</td>\n",
              "      <td>31248</td>\n",
              "      <td>697</td>\n",
              "      <td>234</td>\n",
              "      <td>True</td>\n",
              "      <td>894,470.00</td>\n",
              "      <td>12.00</td>\n",
              "      <td>3,493.47</td>\n",
              "      <td>0.02</td>\n",
              "      <td>77.92</td>\n",
              "    </tr>\n",
              "    <tr>\n",
              "      <th>1</th>\n",
              "      <td>2020-11-04</td>\n",
              "      <td>AC</td>\n",
              "      <td>NaN</td>\n",
              "      <td>state</td>\n",
              "      <td>31218</td>\n",
              "      <td>696</td>\n",
              "      <td>233</td>\n",
              "      <td>False</td>\n",
              "      <td>894,470.00</td>\n",
              "      <td>12.00</td>\n",
              "      <td>3,490.11</td>\n",
              "      <td>0.02</td>\n",
              "      <td>77.81</td>\n",
              "    </tr>\n",
              "    <tr>\n",
              "      <th>2</th>\n",
              "      <td>2020-11-03</td>\n",
              "      <td>AC</td>\n",
              "      <td>NaN</td>\n",
              "      <td>state</td>\n",
              "      <td>30962</td>\n",
              "      <td>695</td>\n",
              "      <td>232</td>\n",
              "      <td>False</td>\n",
              "      <td>894,470.00</td>\n",
              "      <td>12.00</td>\n",
              "      <td>3,461.49</td>\n",
              "      <td>0.02</td>\n",
              "      <td>77.70</td>\n",
              "    </tr>\n",
              "    <tr>\n",
              "      <th>3</th>\n",
              "      <td>2020-11-02</td>\n",
              "      <td>AC</td>\n",
              "      <td>NaN</td>\n",
              "      <td>state</td>\n",
              "      <td>30954</td>\n",
              "      <td>693</td>\n",
              "      <td>231</td>\n",
              "      <td>False</td>\n",
              "      <td>894,470.00</td>\n",
              "      <td>12.00</td>\n",
              "      <td>3,460.60</td>\n",
              "      <td>0.02</td>\n",
              "      <td>77.48</td>\n",
              "    </tr>\n",
              "    <tr>\n",
              "      <th>4</th>\n",
              "      <td>2020-11-01</td>\n",
              "      <td>AC</td>\n",
              "      <td>NaN</td>\n",
              "      <td>state</td>\n",
              "      <td>30951</td>\n",
              "      <td>693</td>\n",
              "      <td>230</td>\n",
              "      <td>False</td>\n",
              "      <td>894,470.00</td>\n",
              "      <td>12.00</td>\n",
              "      <td>3,460.26</td>\n",
              "      <td>0.02</td>\n",
              "      <td>77.48</td>\n",
              "    </tr>\n",
              "  </tbody>\n",
              "</table>\n",
              "</div>"
            ],
            "text/plain": [
              "        date state  ... death_rate deaths_covid_per_100K_inhabitants\n",
              "0 2020-11-05    AC  ...       0.02                             77.92\n",
              "1 2020-11-04    AC  ...       0.02                             77.81\n",
              "2 2020-11-03    AC  ...       0.02                             77.70\n",
              "3 2020-11-02    AC  ...       0.02                             77.48\n",
              "4 2020-11-01    AC  ...       0.02                             77.48\n",
              "\n",
              "[5 rows x 13 columns]"
            ]
          },
          "metadata": {
            "tags": []
          },
          "execution_count": 176
        }
      ]
    },
    {
      "cell_type": "markdown",
      "metadata": {
        "id": "Z6IeDYBWz1Kj"
      },
      "source": [
        "Vamos fazer uma query no dataset para ver onde estão os nulos da coluna estimated_population"
      ]
    },
    {
      "cell_type": "code",
      "metadata": {
        "id": "TaojWcOOymVf",
        "outputId": "c2d0b374-15d0-4868-8d4e-5ee4ba8614f9",
        "colab": {
          "base_uri": "https://localhost:8080/",
          "height": 309
        }
      },
      "source": [
        "# vamos ver se podemos descartar estes boletins\n",
        "query = dados.loc[dados['estimated_population'].isna()]\n",
        "query.head()"
      ],
      "execution_count": 177,
      "outputs": [
        {
          "output_type": "execute_result",
          "data": {
            "text/html": [
              "<div>\n",
              "<style scoped>\n",
              "    .dataframe tbody tr th:only-of-type {\n",
              "        vertical-align: middle;\n",
              "    }\n",
              "\n",
              "    .dataframe tbody tr th {\n",
              "        vertical-align: top;\n",
              "    }\n",
              "\n",
              "    .dataframe thead th {\n",
              "        text-align: right;\n",
              "    }\n",
              "</style>\n",
              "<table border=\"1\" class=\"dataframe\">\n",
              "  <thead>\n",
              "    <tr style=\"text-align: right;\">\n",
              "      <th></th>\n",
              "      <th>date</th>\n",
              "      <th>state</th>\n",
              "      <th>city</th>\n",
              "      <th>place_type</th>\n",
              "      <th>confirmed</th>\n",
              "      <th>deaths</th>\n",
              "      <th>order_for_place</th>\n",
              "      <th>is_last</th>\n",
              "      <th>estimated_population</th>\n",
              "      <th>city_ibge_code</th>\n",
              "      <th>confirmed_per_100k_inhabitants</th>\n",
              "      <th>death_rate</th>\n",
              "      <th>deaths_covid_per_100K_inhabitants</th>\n",
              "    </tr>\n",
              "  </thead>\n",
              "  <tbody>\n",
              "    <tr>\n",
              "      <th>26192</th>\n",
              "      <td>2020-11-02</td>\n",
              "      <td>AL</td>\n",
              "      <td>Importados/Indefinidos</td>\n",
              "      <td>city</td>\n",
              "      <td>8</td>\n",
              "      <td>8</td>\n",
              "      <td>219</td>\n",
              "      <td>True</td>\n",
              "      <td>nan</td>\n",
              "      <td>nan</td>\n",
              "      <td>nan</td>\n",
              "      <td>1.00</td>\n",
              "      <td>nan</td>\n",
              "    </tr>\n",
              "    <tr>\n",
              "      <th>26193</th>\n",
              "      <td>2020-11-01</td>\n",
              "      <td>AL</td>\n",
              "      <td>Importados/Indefinidos</td>\n",
              "      <td>city</td>\n",
              "      <td>8</td>\n",
              "      <td>8</td>\n",
              "      <td>218</td>\n",
              "      <td>False</td>\n",
              "      <td>nan</td>\n",
              "      <td>nan</td>\n",
              "      <td>nan</td>\n",
              "      <td>1.00</td>\n",
              "      <td>nan</td>\n",
              "    </tr>\n",
              "    <tr>\n",
              "      <th>26194</th>\n",
              "      <td>2020-10-31</td>\n",
              "      <td>AL</td>\n",
              "      <td>Importados/Indefinidos</td>\n",
              "      <td>city</td>\n",
              "      <td>8</td>\n",
              "      <td>8</td>\n",
              "      <td>217</td>\n",
              "      <td>False</td>\n",
              "      <td>nan</td>\n",
              "      <td>nan</td>\n",
              "      <td>nan</td>\n",
              "      <td>1.00</td>\n",
              "      <td>nan</td>\n",
              "    </tr>\n",
              "    <tr>\n",
              "      <th>26195</th>\n",
              "      <td>2020-10-30</td>\n",
              "      <td>AL</td>\n",
              "      <td>Importados/Indefinidos</td>\n",
              "      <td>city</td>\n",
              "      <td>8</td>\n",
              "      <td>8</td>\n",
              "      <td>216</td>\n",
              "      <td>False</td>\n",
              "      <td>nan</td>\n",
              "      <td>nan</td>\n",
              "      <td>nan</td>\n",
              "      <td>1.00</td>\n",
              "      <td>nan</td>\n",
              "    </tr>\n",
              "    <tr>\n",
              "      <th>26196</th>\n",
              "      <td>2020-10-29</td>\n",
              "      <td>AL</td>\n",
              "      <td>Importados/Indefinidos</td>\n",
              "      <td>city</td>\n",
              "      <td>8</td>\n",
              "      <td>8</td>\n",
              "      <td>215</td>\n",
              "      <td>False</td>\n",
              "      <td>nan</td>\n",
              "      <td>nan</td>\n",
              "      <td>nan</td>\n",
              "      <td>1.00</td>\n",
              "      <td>nan</td>\n",
              "    </tr>\n",
              "  </tbody>\n",
              "</table>\n",
              "</div>"
            ],
            "text/plain": [
              "            date state  ... death_rate deaths_covid_per_100K_inhabitants\n",
              "26192 2020-11-02    AL  ...       1.00                               nan\n",
              "26193 2020-11-01    AL  ...       1.00                               nan\n",
              "26194 2020-10-31    AL  ...       1.00                               nan\n",
              "26195 2020-10-30    AL  ...       1.00                               nan\n",
              "26196 2020-10-29    AL  ...       1.00                               nan\n",
              "\n",
              "[5 rows x 13 columns]"
            ]
          },
          "metadata": {
            "tags": []
          },
          "execution_count": 177
        }
      ]
    },
    {
      "cell_type": "code",
      "metadata": {
        "id": "kNWiVUyBzj8r",
        "outputId": "824bfa0f-42c9-4c49-9ff3-83dc2e063e96",
        "colab": {
          "base_uri": "https://localhost:8080/"
        }
      },
      "source": [
        "#vendo quais os outros dados nulos que possuímos\n",
        "query.info()"
      ],
      "execution_count": 178,
      "outputs": [
        {
          "output_type": "stream",
          "text": [
            "<class 'pandas.core.frame.DataFrame'>\n",
            "Int64Index: 3655 entries, 26192 to 863551\n",
            "Data columns (total 13 columns):\n",
            " #   Column                             Non-Null Count  Dtype         \n",
            "---  ------                             --------------  -----         \n",
            " 0   date                               3655 non-null   datetime64[ns]\n",
            " 1   state                              3655 non-null   object        \n",
            " 2   city                               3655 non-null   object        \n",
            " 3   place_type                         3655 non-null   object        \n",
            " 4   confirmed                          3655 non-null   int64         \n",
            " 5   deaths                             3655 non-null   int64         \n",
            " 6   order_for_place                    3655 non-null   int64         \n",
            " 7   is_last                            3655 non-null   bool          \n",
            " 8   estimated_population               0 non-null      float64       \n",
            " 9   city_ibge_code                     0 non-null      float64       \n",
            " 10  confirmed_per_100k_inhabitants     0 non-null      float64       \n",
            " 11  death_rate                         3655 non-null   float64       \n",
            " 12  deaths_covid_per_100K_inhabitants  0 non-null      float64       \n",
            "dtypes: bool(1), datetime64[ns](1), float64(5), int64(3), object(3)\n",
            "memory usage: 374.8+ KB\n"
          ],
          "name": "stdout"
        }
      ]
    },
    {
      "cell_type": "code",
      "metadata": {
        "id": "S9rjd5h00r2L",
        "outputId": "970ce9d9-709a-4556-82ba-f13114b467cb",
        "colab": {
          "base_uri": "https://localhost:8080/"
        }
      },
      "source": [
        "#conferir se a coluna confirmed e a coluna deaths é igual\n",
        "query.death_rate.nunique() #fui pela coluna death rate pois ela é uma divisão entre os dados de confirmados e óbitos"
      ],
      "execution_count": 179,
      "outputs": [
        {
          "output_type": "execute_result",
          "data": {
            "text/plain": [
              "573"
            ]
          },
          "metadata": {
            "tags": []
          },
          "execution_count": 179
        }
      ]
    },
    {
      "cell_type": "code",
      "metadata": {
        "id": "4nyTkmGk03J4",
        "outputId": "4c6fea95-f50c-41d5-eb6c-3101835cc6cf",
        "colab": {
          "base_uri": "https://localhost:8080/"
        }
      },
      "source": [
        "#outro jeito de fazer a confirmação\n",
        "query.death_rate.equals(query.confirmed)"
      ],
      "execution_count": 180,
      "outputs": [
        {
          "output_type": "execute_result",
          "data": {
            "text/plain": [
              "False"
            ]
          },
          "metadata": {
            "tags": []
          },
          "execution_count": 180
        }
      ]
    },
    {
      "cell_type": "code",
      "metadata": {
        "id": "rN7wKWC43YTN",
        "outputId": "7cd921a2-661d-4dec-ec6d-75317d55f4f3",
        "colab": {
          "base_uri": "https://localhost:8080/"
        }
      },
      "source": [
        "#conferindo quais as cidades neste subset\n",
        "query.city.unique()"
      ],
      "execution_count": 181,
      "outputs": [
        {
          "output_type": "execute_result",
          "data": {
            "text/plain": [
              "array(['Importados/Indefinidos'], dtype=object)"
            ]
          },
          "metadata": {
            "tags": []
          },
          "execution_count": 181
        }
      ]
    },
    {
      "cell_type": "code",
      "metadata": {
        "id": "Ig0A0X2f4Qlh",
        "outputId": "a01c9be4-75ba-45a9-fab8-e01f3c0b9052",
        "colab": {
          "base_uri": "https://localhost:8080/"
        }
      },
      "source": [
        "#vendo o tipo de lugar no dataset\n",
        "query.place_type.unique()"
      ],
      "execution_count": 182,
      "outputs": [
        {
          "output_type": "execute_result",
          "data": {
            "text/plain": [
              "array(['city'], dtype=object)"
            ]
          },
          "metadata": {
            "tags": []
          },
          "execution_count": 182
        }
      ]
    },
    {
      "cell_type": "markdown",
      "metadata": {
        "id": "G0yxZCM04GE_"
      },
      "source": [
        "conforme a documentação do dataset, city: nome do município (pode estar em branco quando o registro é referente ao estado, pode ser preenchido com Importados/Indefinidos também). Neste caso a hipótese é que se eu puxar todos os Importados/Indefinidos eu vou ter o mesmo dataset da minha query de população estimada nula"
      ]
    },
    {
      "cell_type": "code",
      "metadata": {
        "id": "BmvHFTE33zGA"
      },
      "source": [
        "#fazendo um subset com todas as observações de cidade como Importados/Indefinidos\n",
        "cidade_indefinida = dados[dados.city == 'Importados/Indefinidos']"
      ],
      "execution_count": 183,
      "outputs": []
    },
    {
      "cell_type": "code",
      "metadata": {
        "id": "QDU_IFqv41dE",
        "outputId": "f8ca4937-462b-43b7-dff6-dd5b04f073cc",
        "colab": {
          "base_uri": "https://localhost:8080/"
        }
      },
      "source": [
        "#conferindo se o query é igual ao cidade_indefinida\n",
        "query.equals(cidade_indefinida)"
      ],
      "execution_count": 184,
      "outputs": [
        {
          "output_type": "execute_result",
          "data": {
            "text/plain": [
              "True"
            ]
          },
          "metadata": {
            "tags": []
          },
          "execution_count": 184
        }
      ]
    },
    {
      "cell_type": "markdown",
      "metadata": {
        "id": "gJEd05an5RFg"
      },
      "source": [
        "Neste caso, minha hipótese se confirmou. Vamos levantar uma nova hipótese de que quando a cidade for nula no dataset o tipo de lugar será sempre state"
      ]
    },
    {
      "cell_type": "code",
      "metadata": {
        "id": "ctfXLD0s5F_R"
      },
      "source": [
        "#criando um subset com todas as cidades nulas\n",
        "cidade_nula = dados[dados.city.isna()]\n",
        "#criando um subset com todas as observações com tipo de lugar = state\n",
        "tipo_estado = dados[dados.place_type == 'state']\n"
      ],
      "execution_count": 185,
      "outputs": []
    },
    {
      "cell_type": "code",
      "metadata": {
        "id": "fX2EEBv05zZf",
        "outputId": "4be72380-e9e6-45b5-f56e-528678a3dd07",
        "colab": {
          "base_uri": "https://localhost:8080/"
        }
      },
      "source": [
        "#conferindo minha hipótese:\n",
        "cidade_nula.equals(tipo_estado)"
      ],
      "execution_count": 186,
      "outputs": [
        {
          "output_type": "execute_result",
          "data": {
            "text/plain": [
              "True"
            ]
          },
          "metadata": {
            "tags": []
          },
          "execution_count": 186
        }
      ]
    },
    {
      "cell_type": "code",
      "metadata": {
        "id": "uJnZ-4dU6NZF",
        "outputId": "9e52b6a2-16e0-4aea-e072-ebbd45219e0b",
        "colab": {
          "base_uri": "https://localhost:8080/"
        }
      },
      "source": [
        "#conferindo quantas informações nós temos no dataset estadual\n",
        "tipo_estado.shape"
      ],
      "execution_count": 187,
      "outputs": [
        {
          "output_type": "execute_result",
          "data": {
            "text/plain": [
              "(6335, 13)"
            ]
          },
          "metadata": {
            "tags": []
          },
          "execution_count": 187
        }
      ]
    },
    {
      "cell_type": "code",
      "metadata": {
        "id": "7TQpBmre7H6d",
        "outputId": "cff8a3bf-e873-485b-8b40-b256a21ff4e2",
        "colab": {
          "base_uri": "https://localhost:8080/"
        }
      },
      "source": [
        "#conferindo qual o espaço de tempo entre a observação mais antiga e a observação mais recente\n",
        "dados.date.max() - dados.date.min()"
      ],
      "execution_count": 188,
      "outputs": [
        {
          "output_type": "execute_result",
          "data": {
            "text/plain": [
              "Timedelta('254 days 00:00:00')"
            ]
          },
          "metadata": {
            "tags": []
          },
          "execution_count": 188
        }
      ]
    },
    {
      "cell_type": "code",
      "metadata": {
        "id": "QWsqkKUC7Rdu",
        "outputId": "68ecaeba-3cc9-41e0-d395-2bce2b0e97c6",
        "colab": {
          "base_uri": "https://localhost:8080/"
        }
      },
      "source": [
        "#vendo quantas observações por estado deveríamos ter se todos os estados tivessem informações todos os dias\n",
        "(dados.date.max() - dados.date.min())*27"
      ],
      "execution_count": 189,
      "outputs": [
        {
          "output_type": "execute_result",
          "data": {
            "text/plain": [
              "Timedelta('6858 days 00:00:00')"
            ]
          },
          "metadata": {
            "tags": []
          },
          "execution_count": 189
        }
      ]
    },
    {
      "cell_type": "code",
      "metadata": {
        "id": "1IPvTxdu7VMW"
      },
      "source": [
        "#dividindo os dados enter dados por estado e dados por município\n",
        "dados_por_estado = tipo_estado.drop('city', axis=1)\n",
        "dados_por_cidade = dados[dados.place_type == 'city']\n",
        "dados_por_cidade_definida = dados_por_cidade[dados_por_cidade.city != 'Importados/Indefinidos']"
      ],
      "execution_count": 190,
      "outputs": []
    },
    {
      "cell_type": "code",
      "metadata": {
        "id": "gNAK5r2i8Fuj",
        "outputId": "e5a0460a-7e63-4d7a-f0b1-085c9aba7dee",
        "colab": {
          "base_uri": "https://localhost:8080/"
        }
      },
      "source": [
        "#conferindo quantas informações ficaram nos municípios\n",
        "dados_por_cidade.shape"
      ],
      "execution_count": 191,
      "outputs": [
        {
          "output_type": "execute_result",
          "data": {
            "text/plain": [
              "(930535, 13)"
            ]
          },
          "metadata": {
            "tags": []
          },
          "execution_count": 191
        }
      ]
    },
    {
      "cell_type": "code",
      "metadata": {
        "id": "Rs8rgkOV8MhU",
        "outputId": "85eab348-4d8e-4f53-b960-c9884e225e7d",
        "colab": {
          "base_uri": "https://localhost:8080/"
        }
      },
      "source": [
        "#conferindo quantos casos confirmados e quantos óbitos por estado eu vou perder se eu excluir os dados da nossa query\n",
        "#conferindo a soma de casos confirmados nos 4 datasets.\n",
        "#lembrando que não estamos falando do total de casos confirmados pois isso só teremos com a soma de dados pelo último boletim\n",
        "print(f'a soma de casos confirmados quando a cidade é indefinida é de: {cidade_indefinida.confirmed.sum()}')\n",
        "print(f'a soma de casos confirmados quando o tipo de lugar é estado é de: {dados_por_estado.confirmed.sum()}')\n",
        "print(f'a soma de casos confirmados quando a cidade é definida é de: {dados_por_cidade_definida.confirmed.sum()}')\n",
        "print(f'a soma de casos confirmados quando a tipo de lugar é cidade, seja definida ou indefinida: {dados_por_cidade.confirmed.sum()}')"
      ],
      "execution_count": 192,
      "outputs": [
        {
          "output_type": "stream",
          "text": [
            "a soma de casos confirmados quando a cidade é indefinida é de: 4648188\n",
            "a soma de casos confirmados quando o tipo de lugar é estado é de: 522313733\n",
            "a soma de casos confirmados quando a cidade é definida é de: 469474867\n",
            "a soma de casos confirmados quando a tipo de lugar é cidade, seja definida ou indefinida: 474123055\n"
          ],
          "name": "stdout"
        }
      ]
    },
    {
      "cell_type": "code",
      "metadata": {
        "id": "3S37i0Ej8SPU",
        "outputId": "1cc1bacb-3900-489b-e789-51d6ee312ea6",
        "colab": {
          "base_uri": "https://localhost:8080/"
        }
      },
      "source": [
        "#conferindo a soma de óbitos nos 4 datasets.\n",
        "#lembrando que não estamos falando do total de óbitos pois isso só teremos com a soma de dados pelo último boletim\n",
        "print(f'a soma de mortes quando a cidade é indefinida é de: {cidade_indefinida.deaths.sum()}')\n",
        "print(f'a soma de mortes quando o tipo de lugar é estado é de: {dados_por_estado.deaths.sum()}')\n",
        "print(f'a soma de mortes quando a cidade é definida é de: {dados_por_cidade_definida.deaths.sum()}')\n",
        "print(f'a soma de mortes quando a tipo de lugar é cidade, seja definida ou indefinida: {dados_por_cidade.deaths.sum()}')"
      ],
      "execution_count": 193,
      "outputs": [
        {
          "output_type": "stream",
          "text": [
            "a soma de mortes quando a cidade é indefinida é de: 51722\n",
            "a soma de mortes quando o tipo de lugar é estado é de: 17131603\n",
            "a soma de mortes quando a cidade é definida é de: 15602422\n",
            "a soma de mortes quando a tipo de lugar é cidade, seja definida ou indefinida: 15654144\n"
          ],
          "name": "stdout"
        }
      ]
    },
    {
      "cell_type": "markdown",
      "metadata": {
        "id": "7zoJZ3ALMcuJ"
      },
      "source": [
        "As informações de soma me dizem que os boletins possuem dados acumulados de casos confirmados e óbitos."
      ]
    },
    {
      "cell_type": "markdown",
      "metadata": {
        "id": "FtW77IZPAoUe"
      },
      "source": [
        "Considerando que percentual de dados perdidos se eu excluir as informações sem cidade definida fica muito próximo de 0% eu vou optar por usar apenas os dados em que a cidade está definida. A partir de agora vou trabalhar com os dados estaduais e os dados municipais"
      ]
    },
    {
      "cell_type": "markdown",
      "metadata": {
        "id": "nTFDZTZkBLBy"
      },
      "source": [
        "### Comparando os Estados com mais óbitos em 2020 até agosto  com sua população estimada\n",
        "\n",
        "Para isso vou usar o dataset de Óbitos (filtrando por ano e estado e a população estimada por estado"
      ]
    },
    {
      "cell_type": "code",
      "metadata": {
        "id": "NE0sNXXvAeN-",
        "outputId": "55106eb5-780b-4179-e9f0-34347ec3f169",
        "colab": {
          "base_uri": "https://localhost:8080/",
          "height": 309
        }
      },
      "source": [
        "#testando uma seleção no dados por estado, pela coluna que define se é o último boletim, para ver se temos pelo menos uma linha por estado\n",
        "ultimo_boletim_estadual = dados_por_estado.query('is_last == True')\n",
        "ultimo_boletim_estadual.head()"
      ],
      "execution_count": 242,
      "outputs": [
        {
          "output_type": "execute_result",
          "data": {
            "text/html": [
              "<div>\n",
              "<style scoped>\n",
              "    .dataframe tbody tr th:only-of-type {\n",
              "        vertical-align: middle;\n",
              "    }\n",
              "\n",
              "    .dataframe tbody tr th {\n",
              "        vertical-align: top;\n",
              "    }\n",
              "\n",
              "    .dataframe thead th {\n",
              "        text-align: right;\n",
              "    }\n",
              "</style>\n",
              "<table border=\"1\" class=\"dataframe\">\n",
              "  <thead>\n",
              "    <tr style=\"text-align: right;\">\n",
              "      <th></th>\n",
              "      <th>date</th>\n",
              "      <th>state</th>\n",
              "      <th>place_type</th>\n",
              "      <th>confirmed</th>\n",
              "      <th>deaths</th>\n",
              "      <th>order_for_place</th>\n",
              "      <th>is_last</th>\n",
              "      <th>estimated_population</th>\n",
              "      <th>city_ibge_code</th>\n",
              "      <th>confirmed_per_100k_inhabitants</th>\n",
              "      <th>death_rate</th>\n",
              "      <th>deaths_covid_per_100K_inhabitants</th>\n",
              "    </tr>\n",
              "  </thead>\n",
              "  <tbody>\n",
              "    <tr>\n",
              "      <th>0</th>\n",
              "      <td>2020-11-05</td>\n",
              "      <td>AC</td>\n",
              "      <td>state</td>\n",
              "      <td>31248</td>\n",
              "      <td>697</td>\n",
              "      <td>234</td>\n",
              "      <td>True</td>\n",
              "      <td>894,470.00</td>\n",
              "      <td>12.00</td>\n",
              "      <td>3,493.47</td>\n",
              "      <td>0.02</td>\n",
              "      <td>77.92</td>\n",
              "    </tr>\n",
              "    <tr>\n",
              "      <th>4247</th>\n",
              "      <td>2020-11-03</td>\n",
              "      <td>AP</td>\n",
              "      <td>state</td>\n",
              "      <td>52832</td>\n",
              "      <td>751</td>\n",
              "      <td>228</td>\n",
              "      <td>True</td>\n",
              "      <td>861,773.00</td>\n",
              "      <td>16.00</td>\n",
              "      <td>6,130.62</td>\n",
              "      <td>0.01</td>\n",
              "      <td>87.15</td>\n",
              "    </tr>\n",
              "    <tr>\n",
              "      <th>7574</th>\n",
              "      <td>2020-11-05</td>\n",
              "      <td>AM</td>\n",
              "      <td>state</td>\n",
              "      <td>164070</td>\n",
              "      <td>4607</td>\n",
              "      <td>234</td>\n",
              "      <td>True</td>\n",
              "      <td>4,207,714.00</td>\n",
              "      <td>13.00</td>\n",
              "      <td>3,899.27</td>\n",
              "      <td>0.03</td>\n",
              "      <td>109.49</td>\n",
              "    </tr>\n",
              "    <tr>\n",
              "      <th>19808</th>\n",
              "      <td>2020-11-05</td>\n",
              "      <td>AL</td>\n",
              "      <td>state</td>\n",
              "      <td>91270</td>\n",
              "      <td>2258</td>\n",
              "      <td>240</td>\n",
              "      <td>True</td>\n",
              "      <td>3,351,543.00</td>\n",
              "      <td>27.00</td>\n",
              "      <td>2,723.22</td>\n",
              "      <td>0.02</td>\n",
              "      <td>67.37</td>\n",
              "    </tr>\n",
              "    <tr>\n",
              "      <th>38885</th>\n",
              "      <td>2020-11-05</td>\n",
              "      <td>DF</td>\n",
              "      <td>state</td>\n",
              "      <td>214955</td>\n",
              "      <td>3728</td>\n",
              "      <td>243</td>\n",
              "      <td>True</td>\n",
              "      <td>3,055,149.00</td>\n",
              "      <td>53.00</td>\n",
              "      <td>7,035.83</td>\n",
              "      <td>0.02</td>\n",
              "      <td>122.02</td>\n",
              "    </tr>\n",
              "  </tbody>\n",
              "</table>\n",
              "</div>"
            ],
            "text/plain": [
              "            date state  ... death_rate  deaths_covid_per_100K_inhabitants\n",
              "0     2020-11-05    AC  ...       0.02                              77.92\n",
              "4247  2020-11-03    AP  ...       0.01                              87.15\n",
              "7574  2020-11-05    AM  ...       0.03                             109.49\n",
              "19808 2020-11-05    AL  ...       0.02                              67.37\n",
              "38885 2020-11-05    DF  ...       0.02                             122.02\n",
              "\n",
              "[5 rows x 12 columns]"
            ]
          },
          "metadata": {
            "tags": []
          },
          "execution_count": 242
        }
      ]
    },
    {
      "cell_type": "code",
      "metadata": {
        "id": "5tqzVb2WG4c0",
        "outputId": "36a87900-1780-480e-c2f4-542c2f2a490c",
        "colab": {
          "base_uri": "https://localhost:8080/",
          "height": 309
        }
      },
      "source": [
        "#criando uma query com o último boletim de agosto\n",
        "ultimo_boletim_estadual_agosto = dados_por_estado.query('date == \"2020-08-31\"')\n",
        "ultimo_boletim_estadual_agosto.head()"
      ],
      "execution_count": 241,
      "outputs": [
        {
          "output_type": "execute_result",
          "data": {
            "text/html": [
              "<div>\n",
              "<style scoped>\n",
              "    .dataframe tbody tr th:only-of-type {\n",
              "        vertical-align: middle;\n",
              "    }\n",
              "\n",
              "    .dataframe tbody tr th {\n",
              "        vertical-align: top;\n",
              "    }\n",
              "\n",
              "    .dataframe thead th {\n",
              "        text-align: right;\n",
              "    }\n",
              "</style>\n",
              "<table border=\"1\" class=\"dataframe\">\n",
              "  <thead>\n",
              "    <tr style=\"text-align: right;\">\n",
              "      <th></th>\n",
              "      <th>date</th>\n",
              "      <th>state</th>\n",
              "      <th>place_type</th>\n",
              "      <th>confirmed</th>\n",
              "      <th>deaths</th>\n",
              "      <th>order_for_place</th>\n",
              "      <th>is_last</th>\n",
              "      <th>estimated_population</th>\n",
              "      <th>city_ibge_code</th>\n",
              "      <th>confirmed_per_100k_inhabitants</th>\n",
              "      <th>death_rate</th>\n",
              "      <th>deaths_covid_per_100K_inhabitants</th>\n",
              "    </tr>\n",
              "  </thead>\n",
              "  <tbody>\n",
              "    <tr>\n",
              "      <th>66</th>\n",
              "      <td>2020-08-31</td>\n",
              "      <td>AC</td>\n",
              "      <td>state</td>\n",
              "      <td>24647</td>\n",
              "      <td>612</td>\n",
              "      <td>168</td>\n",
              "      <td>False</td>\n",
              "      <td>894,470.00</td>\n",
              "      <td>12.00</td>\n",
              "      <td>2,755.49</td>\n",
              "      <td>0.02</td>\n",
              "      <td>68.42</td>\n",
              "    </tr>\n",
              "    <tr>\n",
              "      <th>4311</th>\n",
              "      <td>2020-08-31</td>\n",
              "      <td>AP</td>\n",
              "      <td>state</td>\n",
              "      <td>43193</td>\n",
              "      <td>661</td>\n",
              "      <td>164</td>\n",
              "      <td>False</td>\n",
              "      <td>861,773.00</td>\n",
              "      <td>16.00</td>\n",
              "      <td>5,012.11</td>\n",
              "      <td>0.02</td>\n",
              "      <td>76.70</td>\n",
              "    </tr>\n",
              "    <tr>\n",
              "      <th>7640</th>\n",
              "      <td>2020-08-31</td>\n",
              "      <td>AM</td>\n",
              "      <td>state</td>\n",
              "      <td>120296</td>\n",
              "      <td>3649</td>\n",
              "      <td>168</td>\n",
              "      <td>False</td>\n",
              "      <td>4,207,714.00</td>\n",
              "      <td>13.00</td>\n",
              "      <td>2,858.94</td>\n",
              "      <td>0.03</td>\n",
              "      <td>86.72</td>\n",
              "    </tr>\n",
              "    <tr>\n",
              "      <th>19874</th>\n",
              "      <td>2020-08-31</td>\n",
              "      <td>AL</td>\n",
              "      <td>state</td>\n",
              "      <td>78804</td>\n",
              "      <td>1887</td>\n",
              "      <td>174</td>\n",
              "      <td>False</td>\n",
              "      <td>3,351,543.00</td>\n",
              "      <td>27.00</td>\n",
              "      <td>2,351.28</td>\n",
              "      <td>0.02</td>\n",
              "      <td>56.30</td>\n",
              "    </tr>\n",
              "    <tr>\n",
              "      <th>38951</th>\n",
              "      <td>2020-08-31</td>\n",
              "      <td>DF</td>\n",
              "      <td>state</td>\n",
              "      <td>162042</td>\n",
              "      <td>2521</td>\n",
              "      <td>177</td>\n",
              "      <td>False</td>\n",
              "      <td>3,055,149.00</td>\n",
              "      <td>53.00</td>\n",
              "      <td>5,303.90</td>\n",
              "      <td>0.02</td>\n",
              "      <td>82.52</td>\n",
              "    </tr>\n",
              "  </tbody>\n",
              "</table>\n",
              "</div>"
            ],
            "text/plain": [
              "            date state  ... death_rate  deaths_covid_per_100K_inhabitants\n",
              "66    2020-08-31    AC  ...       0.02                              68.42\n",
              "4311  2020-08-31    AP  ...       0.02                              76.70\n",
              "7640  2020-08-31    AM  ...       0.03                              86.72\n",
              "19874 2020-08-31    AL  ...       0.02                              56.30\n",
              "38951 2020-08-31    DF  ...       0.02                              82.52\n",
              "\n",
              "[5 rows x 12 columns]"
            ]
          },
          "metadata": {
            "tags": []
          },
          "execution_count": 241
        }
      ]
    },
    {
      "cell_type": "code",
      "metadata": {
        "id": "4UR1RiEoB8Hp",
        "outputId": "3dc74e7d-7815-4d62-8e1c-af7aac5d62c1",
        "colab": {
          "base_uri": "https://localhost:8080/"
        }
      },
      "source": [
        "#vendo se tenho os 27 estados e 27 observações\n",
        "print(f'A quantidade de estados representados no último boletim é {ultimo_boletim_estadual.state.nunique()}') \n",
        "print(f'A quantidade de observações estaduais que são consideradas o último boletim é de: {ultimo_boletim_estadual.shape[0]}')"
      ],
      "execution_count": 196,
      "outputs": [
        {
          "output_type": "stream",
          "text": [
            "A quantidade de estados representados no último boletim é 27\n",
            "A quantidade de observações estaduais que são consideradas o último boletim é de: 27\n"
          ],
          "name": "stdout"
        }
      ]
    },
    {
      "cell_type": "code",
      "metadata": {
        "id": "LX8wMsAVHS7F",
        "outputId": "49fa76a3-e9d9-4dac-c053-7850977f00f4",
        "colab": {
          "base_uri": "https://localhost:8080/"
        }
      },
      "source": [
        "#vendo se tenho os 27 estados e 27 observações\n",
        "print(f'A quantidade de estados representados no último boletim de agosto é {ultimo_boletim_estadual_agosto.state.nunique()}') \n",
        "print(f'A quantidade de observações estaduais que são consideradas o último boletim de agosto é de: {ultimo_boletim_estadual_agosto.shape[0]}')"
      ],
      "execution_count": 197,
      "outputs": [
        {
          "output_type": "stream",
          "text": [
            "A quantidade de estados representados no último boletim de agosto é 27\n",
            "A quantidade de observações estaduais que são consideradas o último boletim de agosto é de: 27\n"
          ],
          "name": "stdout"
        }
      ]
    },
    {
      "cell_type": "code",
      "metadata": {
        "id": "oXhEaBW9CM_j"
      },
      "source": [
        "#capturando os óbitos de 2020\n",
        "obitos_2020 = obitos.query('year == 2020')"
      ],
      "execution_count": 198,
      "outputs": []
    },
    {
      "cell_type": "code",
      "metadata": {
        "id": "YGSgQk7-DCtc"
      },
      "source": [
        "#criando um DF com a soma de mortes por estado (até agosto)\n",
        "obitos_por_estado_2020 = obitos_2020.groupby(by='state')['deaths'].sum().to_frame().reset_index()"
      ],
      "execution_count": 199,
      "outputs": []
    },
    {
      "cell_type": "code",
      "metadata": {
        "id": "gRGFsjeIDcS1"
      },
      "source": [
        "#incluindo os óbitos totais no nosso último boletim de agosto para que os dados fiquem emparelhados\n",
        "covid_agosto_com_obitos_totais = ultimo_boletim_estadual_agosto.merge(obitos_por_estado_2020, on='state')"
      ],
      "execution_count": 200,
      "outputs": []
    },
    {
      "cell_type": "code",
      "metadata": {
        "id": "CQNrOFoFDpbD",
        "outputId": "73fde215-0d8b-4dde-99da-75e84a985bae",
        "colab": {
          "base_uri": "https://localhost:8080/"
        }
      },
      "source": [
        "covid_agosto_com_obitos_totais.columns"
      ],
      "execution_count": 201,
      "outputs": [
        {
          "output_type": "execute_result",
          "data": {
            "text/plain": [
              "Index(['date', 'state', 'place_type', 'confirmed', 'deaths_x',\n",
              "       'order_for_place', 'is_last', 'estimated_population', 'city_ibge_code',\n",
              "       'confirmed_per_100k_inhabitants', 'death_rate',\n",
              "       'deaths_covid_per_100K_inhabitants', 'deaths_y'],\n",
              "      dtype='object')"
            ]
          },
          "metadata": {
            "tags": []
          },
          "execution_count": 201
        }
      ]
    },
    {
      "cell_type": "code",
      "metadata": {
        "id": "polY7LucJDT0"
      },
      "source": [
        "#alterando o nome das colunas\n",
        "covid_agosto_com_obitos_totais.columns = ['date', 'state', 'place_type', 'confirmed', 'deaths_covid',\n",
        "       'order_for_place', 'is_last', 'estimated_population', 'city_ibge_code',\n",
        "       'confirmed_per_100k_inhabitants', 'death_rate',\n",
        "       'deaths_covid_per_100K_inhabitants', 'deaths_total']"
      ],
      "execution_count": 203,
      "outputs": []
    },
    {
      "cell_type": "code",
      "metadata": {
        "id": "Or8mpDThJS2n"
      },
      "source": [
        "#criando uma coluna com o percentual de mortes por covid  no total de mortes\n",
        "covid_agosto_com_obitos_totais['rate_deaths_by_covid'] = covid_agosto_com_obitos_totais['deaths_covid']/covid_agosto_com_obitos_totais['deaths_total']"
      ],
      "execution_count": 204,
      "outputs": []
    },
    {
      "cell_type": "code",
      "metadata": {
        "id": "Fn70aiFERUjI"
      },
      "source": [
        "#criando uma coluna para as mortes totais por 100k habitantes\n",
        "covid_agosto_com_obitos_totais['deaths_total_per_100K_inhabitants'] = covid_agosto_com_obitos_totais['deaths_total']/(covid_agosto_com_obitos_totais['estimated_population']/100000)"
      ],
      "execution_count": 205,
      "outputs": []
    },
    {
      "cell_type": "code",
      "metadata": {
        "id": "dS4mWg0LJxf2",
        "outputId": "da43e7f2-8289-40f9-90b1-296fb9943993",
        "colab": {
          "base_uri": "https://localhost:8080/",
          "height": 309
        }
      },
      "source": [
        "covid_agosto_com_obitos_totais.head()"
      ],
      "execution_count": 206,
      "outputs": [
        {
          "output_type": "execute_result",
          "data": {
            "text/html": [
              "<div>\n",
              "<style scoped>\n",
              "    .dataframe tbody tr th:only-of-type {\n",
              "        vertical-align: middle;\n",
              "    }\n",
              "\n",
              "    .dataframe tbody tr th {\n",
              "        vertical-align: top;\n",
              "    }\n",
              "\n",
              "    .dataframe thead th {\n",
              "        text-align: right;\n",
              "    }\n",
              "</style>\n",
              "<table border=\"1\" class=\"dataframe\">\n",
              "  <thead>\n",
              "    <tr style=\"text-align: right;\">\n",
              "      <th></th>\n",
              "      <th>date</th>\n",
              "      <th>state</th>\n",
              "      <th>place_type</th>\n",
              "      <th>confirmed</th>\n",
              "      <th>deaths_covid</th>\n",
              "      <th>order_for_place</th>\n",
              "      <th>is_last</th>\n",
              "      <th>estimated_population</th>\n",
              "      <th>city_ibge_code</th>\n",
              "      <th>confirmed_per_100k_inhabitants</th>\n",
              "      <th>death_rate</th>\n",
              "      <th>deaths_covid_per_100K_inhabitants</th>\n",
              "      <th>deaths_total</th>\n",
              "      <th>rate_deaths_by_covid</th>\n",
              "      <th>deaths_total_per_100K_inhabitants</th>\n",
              "    </tr>\n",
              "  </thead>\n",
              "  <tbody>\n",
              "    <tr>\n",
              "      <th>0</th>\n",
              "      <td>2020-08-31</td>\n",
              "      <td>AC</td>\n",
              "      <td>state</td>\n",
              "      <td>24647</td>\n",
              "      <td>612</td>\n",
              "      <td>168</td>\n",
              "      <td>False</td>\n",
              "      <td>894,470.00</td>\n",
              "      <td>12.00</td>\n",
              "      <td>2,755.49</td>\n",
              "      <td>0.02</td>\n",
              "      <td>68.42</td>\n",
              "      <td>3250</td>\n",
              "      <td>0.19</td>\n",
              "      <td>363.34</td>\n",
              "    </tr>\n",
              "    <tr>\n",
              "      <th>1</th>\n",
              "      <td>2020-08-31</td>\n",
              "      <td>AP</td>\n",
              "      <td>state</td>\n",
              "      <td>43193</td>\n",
              "      <td>661</td>\n",
              "      <td>164</td>\n",
              "      <td>False</td>\n",
              "      <td>861,773.00</td>\n",
              "      <td>16.00</td>\n",
              "      <td>5,012.11</td>\n",
              "      <td>0.02</td>\n",
              "      <td>76.70</td>\n",
              "      <td>2214</td>\n",
              "      <td>0.30</td>\n",
              "      <td>256.91</td>\n",
              "    </tr>\n",
              "    <tr>\n",
              "      <th>2</th>\n",
              "      <td>2020-08-31</td>\n",
              "      <td>AM</td>\n",
              "      <td>state</td>\n",
              "      <td>120296</td>\n",
              "      <td>3649</td>\n",
              "      <td>168</td>\n",
              "      <td>False</td>\n",
              "      <td>4,207,714.00</td>\n",
              "      <td>13.00</td>\n",
              "      <td>2,858.94</td>\n",
              "      <td>0.03</td>\n",
              "      <td>86.72</td>\n",
              "      <td>13336</td>\n",
              "      <td>0.27</td>\n",
              "      <td>316.94</td>\n",
              "    </tr>\n",
              "    <tr>\n",
              "      <th>3</th>\n",
              "      <td>2020-08-31</td>\n",
              "      <td>AL</td>\n",
              "      <td>state</td>\n",
              "      <td>78804</td>\n",
              "      <td>1887</td>\n",
              "      <td>174</td>\n",
              "      <td>False</td>\n",
              "      <td>3,351,543.00</td>\n",
              "      <td>27.00</td>\n",
              "      <td>2,351.28</td>\n",
              "      <td>0.02</td>\n",
              "      <td>56.30</td>\n",
              "      <td>14031</td>\n",
              "      <td>0.13</td>\n",
              "      <td>418.64</td>\n",
              "    </tr>\n",
              "    <tr>\n",
              "      <th>4</th>\n",
              "      <td>2020-08-31</td>\n",
              "      <td>DF</td>\n",
              "      <td>state</td>\n",
              "      <td>162042</td>\n",
              "      <td>2521</td>\n",
              "      <td>177</td>\n",
              "      <td>False</td>\n",
              "      <td>3,055,149.00</td>\n",
              "      <td>53.00</td>\n",
              "      <td>5,303.90</td>\n",
              "      <td>0.02</td>\n",
              "      <td>82.52</td>\n",
              "      <td>12152</td>\n",
              "      <td>0.21</td>\n",
              "      <td>397.75</td>\n",
              "    </tr>\n",
              "  </tbody>\n",
              "</table>\n",
              "</div>"
            ],
            "text/plain": [
              "        date state  ... rate_deaths_by_covid  deaths_total_per_100K_inhabitants\n",
              "0 2020-08-31    AC  ...                 0.19                             363.34\n",
              "1 2020-08-31    AP  ...                 0.30                             256.91\n",
              "2 2020-08-31    AM  ...                 0.27                             316.94\n",
              "3 2020-08-31    AL  ...                 0.13                             418.64\n",
              "4 2020-08-31    DF  ...                 0.21                             397.75\n",
              "\n",
              "[5 rows x 15 columns]"
            ]
          },
          "metadata": {
            "tags": []
          },
          "execution_count": 206
        }
      ]
    },
    {
      "cell_type": "code",
      "metadata": {
        "id": "-IF60gn8J0jp",
        "outputId": "869720d3-d2fb-4427-edec-02c709070d6f",
        "colab": {
          "base_uri": "https://localhost:8080/"
        }
      },
      "source": [
        "#conferindo o percentual mínimo e o máximo de mortes por covid entre os estados\n",
        "covid_agosto_com_obitos_totais.rate_deaths_by_covid.min(), covid_agosto_com_obitos_totais.rate_deaths_by_covid.max()"
      ],
      "execution_count": 207,
      "outputs": [
        {
          "output_type": "execute_result",
          "data": {
            "text/plain": [
              "(0.05711767738073463, 0.3037909836065574)"
            ]
          },
          "metadata": {
            "tags": []
          },
          "execution_count": 207
        }
      ]
    },
    {
      "cell_type": "code",
      "metadata": {
        "id": "X8HUySLfKWe-",
        "outputId": "4e9d9e96-b13e-4ee8-ac0c-151e28847434",
        "colab": {
          "base_uri": "https://localhost:8080/"
        }
      },
      "source": [
        "#conferindo quais são os estados com menor e maior percentual\n",
        "menor = covid_agosto_com_obitos_totais.query('rate_deaths_by_covid == rate_deaths_by_covid.min()')['state']\n",
        "maior = covid_agosto_com_obitos_totais.query('rate_deaths_by_covid == rate_deaths_by_covid.max()')['state']\n",
        "print(menor)\n",
        "print(maior)"
      ],
      "execution_count": 208,
      "outputs": [
        {
          "output_type": "stream",
          "text": [
            "24    RS\n",
            "Name: state, dtype: object\n",
            "21    RR\n",
            "Name: state, dtype: object\n"
          ],
          "name": "stdout"
        }
      ]
    },
    {
      "cell_type": "markdown",
      "metadata": {
        "id": "e3ITysHeKNy6"
      },
      "source": [
        "As mortes por COVID até agosto representam entre 5 e 30% dos óbitos nos estados, sendo o menor percentual no Rio Grande do Sul e o maior percentual em Roraima"
      ]
    },
    {
      "cell_type": "code",
      "metadata": {
        "id": "5SwcFLsSKJob",
        "outputId": "fcd8e591-130f-49bc-b8e3-00ec60b65934",
        "colab": {
          "base_uri": "https://localhost:8080/"
        }
      },
      "source": [
        "#soma de casos confirmados no último boletim\n",
        "ultimo_boletim_estadual.confirmed.sum()"
      ],
      "execution_count": 209,
      "outputs": [
        {
          "output_type": "execute_result",
          "data": {
            "text/plain": [
              "5616476"
            ]
          },
          "metadata": {
            "tags": []
          },
          "execution_count": 209
        }
      ]
    },
    {
      "cell_type": "code",
      "metadata": {
        "id": "jSn70LnuL8Ix",
        "outputId": "f89a6f0c-ffaa-4610-94be-0b0574e200c1",
        "colab": {
          "base_uri": "https://localhost:8080/"
        }
      },
      "source": [
        "#soma de casos confirmados no último boletim de agosto\n",
        "ultimo_boletim_estadual_agosto.confirmed.sum()"
      ],
      "execution_count": 210,
      "outputs": [
        {
          "output_type": "execute_result",
          "data": {
            "text/plain": [
              "3914829"
            ]
          },
          "metadata": {
            "tags": []
          },
          "execution_count": 210
        }
      ]
    },
    {
      "cell_type": "code",
      "metadata": {
        "id": "uaMrNEmtRrFX",
        "outputId": "0cee2cb6-b0a1-468b-de34-943f29f95f68",
        "colab": {
          "base_uri": "https://localhost:8080/",
          "height": 427
        }
      },
      "source": [
        "#vamos visualizar os estados pela quantidade de mortes por covid por 100k habitantes\n",
        "ultimo_boletim_estadual.sort_values(by='deaths_covid_per_100K_inhabitants',\n",
        "                                    ascending = False).plot(x='state', \n",
        "                                                            y='deaths_covid_per_100K_inhabitants', \n",
        "                                                            kind='bar', \n",
        "                                                            figsize=(12,6), grid=True);\n",
        "plt.title('Mortes por COVID por 100K por habitantes por Estado até 05/11/2020 no Brasil', fontsize=16, pad=20);"
      ],
      "execution_count": 230,
      "outputs": [
        {
          "output_type": "display_data",
          "data": {
            "image/png": "[encoded data removed]",
            "text/plain": [
              "<Figure size 864x432 with 1 Axes>"
            ]
          },
          "metadata": {
            "tags": [],
            "needs_background": "light"
          }
        }
      ]
    },
    {
      "cell_type": "markdown",
      "metadata": {
        "id": "c9zqkLeAVQYY"
      },
      "source": [
        "Vemos pelo gráfico acima que o DF é o estado com mais mortes por 100mil habitantes, enquanto MG é o estado com menos mortes por 100mil habitantes."
      ]
    },
    {
      "cell_type": "code",
      "metadata": {
        "id": "kRsDH-rVSVTd",
        "outputId": "7a8d6b63-ab9f-4d29-f1bd-762bbae57600",
        "colab": {
          "base_uri": "https://localhost:8080/",
          "height": 427
        }
      },
      "source": [
        "#vamos visualizar os estados pela quantidade de mortes por covid por 100k habitantes\n",
        "ultimo_boletim_estadual.sort_values(by='deaths_covid_per_100K_inhabitants',\n",
        "                                    ascending = False).plot(x='state', \n",
        "                                                            y='confirmed_per_100k_inhabitants', \n",
        "                                                            kind='bar', \n",
        "                                                            figsize=(12,6), grid=True);\n",
        "plt.title('Casos de COVID Confirmados por 100K habitantes por Estado até 05/11/2020 no Brasil', fontsize=16, pad=20);"
      ],
      "execution_count": 228,
      "outputs": [
        {
          "output_type": "display_data",
          "data": {
            "image/png": "[encoded data removed]",
            "text/plain": [
              "<Figure size 864x432 with 1 Axes>"
            ]
          },
          "metadata": {
            "tags": [],
            "needs_background": "light"
          }
        }
      ]
    },
    {
      "cell_type": "markdown",
      "metadata": {
        "id": "gmPgytzFV_Sp"
      },
      "source": [
        "Ao organizamos o gráfico de casos confirmados por 100K por estado pela quantidade de mortes por 100mil habitantes, vemos que a taxa de mortalidade não é a mesma entre os estados, o que pode indicar, entre outras coisas, a falta de testes.  Vamor reorganizar o gráfico anterior para visualizar qual o estado com o maior e o menor número de casos confirmados por 100mil"
      ]
    },
    {
      "cell_type": "code",
      "metadata": {
        "id": "3jMMtdrMU_4F",
        "outputId": "a30f1ae7-4a3d-4449-a852-7fcb27b0431b",
        "colab": {
          "base_uri": "https://localhost:8080/",
          "height": 427
        }
      },
      "source": [
        "#vamos visualizar os estados pela quantidade de casos confirmados por covid por 100k habitantes\n",
        "ultimo_boletim_estadual.sort_values(by='confirmed_per_100k_inhabitants',\n",
        "                                    ascending = False).plot(x='state', \n",
        "                                                            y='confirmed_per_100k_inhabitants', \n",
        "                                                            kind='bar', \n",
        "                                                            figsize=(12,6), grid=True);\n",
        "plt.title('Casos de COVID Confirmados por 100K habitantes por Estado até 05/11/2020 no Brasil', fontsize=16, pad=20);"
      ],
      "execution_count": 229,
      "outputs": [
        {
          "output_type": "display_data",
          "data": {
            "image/png": "[encoded data removed]",
            "text/plain": [
              "<Figure size 864x432 with 1 Axes>"
            ]
          },
          "metadata": {
            "tags": [],
            "needs_background": "light"
          }
        }
      ]
    },
    {
      "cell_type": "markdown",
      "metadata": {
        "id": "JgW6fVrpWoBf"
      },
      "source": [
        "Neste caso Roraima é o estado com a maior taxa de casos confirmados por 100K habitantes. Interessante lembrar que é também o estado com a maior taxa de mortes por COVID dentre o total de mortes em agosto. Já Pernambuco é o estado com a menor taxa de casos confirmados por 100K habitantes, mas o novo estado por número de mortes por 100K"
      ]
    },
    {
      "cell_type": "markdown",
      "metadata": {
        "id": "V6xdht96Y9fg"
      },
      "source": [
        "Vamos agora visualizar a taxa de mortalidade, por estado"
      ]
    },
    {
      "cell_type": "code",
      "metadata": {
        "id": "ywv44IlgYa8b",
        "outputId": "cb825a9d-850c-4a2a-a9ed-a100b9c13710",
        "colab": {
          "base_uri": "https://localhost:8080/",
          "height": 427
        }
      },
      "source": [
        "#vamos visualizar os estados pela quantidade de casos confirmados por covid por 100k habitantes\n",
        "ultimo_boletim_estadual.sort_values(by='death_rate',\n",
        "                                    ascending = False).plot(x='state', \n",
        "                                                            y='death_rate', \n",
        "                                                            kind='bar', \n",
        "                                                            figsize=(12,6), grid=True);\n",
        "plt.title('Taxa de mortalidade por Estado até 05/11/2020 no Brasil', fontsize=16, pad=20);\n"
      ],
      "execution_count": 240,
      "outputs": [
        {
          "output_type": "display_data",
          "data": {
            "image/png": "[encoded data removed]",
            "text/plain": [
              "<Figure size 864x432 with 1 Axes>"
            ]
          },
          "metadata": {
            "tags": [],
            "needs_background": "light"
          }
        }
      ]
    },
    {
      "cell_type": "markdown",
      "metadata": {
        "id": "aaSKRVEUfRY5"
      },
      "source": [
        "O estado com a maior taxa de mortalidade é o Rio de Janeiro e o estado com a menor taxa de mortalidade é Santa Catarina. Podemos ver essa relação considerando que ele é o segundo estado com o maior número de mortes por 100K, mas o 24º em número de casos confirmados"
      ]
    },
    {
      "cell_type": "markdown",
      "metadata": {
        "id": "J3aJJJqsgM6r"
      },
      "source": [
        "### Buscando o último boletim por município"
      ]
    },
    {
      "cell_type": "code",
      "metadata": {
        "id": "PkqhIuVVZZfS"
      },
      "source": [
        "#criando um dataset apenas com o último boletim por cidade\n",
        "ultimo_boletim_municipal = dados_por_cidade_definida.query('is_last == True')"
      ],
      "execution_count": 251,
      "outputs": []
    },
    {
      "cell_type": "code",
      "metadata": {
        "id": "SRqIBYcCgbhm",
        "outputId": "b0f068b7-715d-4787-e689-91df0a431f2f",
        "colab": {
          "base_uri": "https://localhost:8080/"
        }
      },
      "source": [
        "#vamos ver quantas cidades únicas temos nesse dataset\n",
        "ultimo_boletim_municipal.city.nunique()"
      ],
      "execution_count": 252,
      "outputs": [
        {
          "output_type": "execute_result",
          "data": {
            "text/plain": [
              "5294"
            ]
          },
          "metadata": {
            "tags": []
          },
          "execution_count": 252
        }
      ]
    },
    {
      "cell_type": "code",
      "metadata": {
        "id": "epLHPmKngday",
        "outputId": "70caea54-115c-417d-ffe9-2179d86673c1",
        "colab": {
          "base_uri": "https://localhost:8080/"
        }
      },
      "source": [
        "#vamos ver quantas cidades únicas a gente tem no dataset de onde tiramos os dados únicos\n",
        "dados_por_cidade_definida.city.nunique()"
      ],
      "execution_count": 247,
      "outputs": [
        {
          "output_type": "execute_result",
          "data": {
            "text/plain": [
              "5294"
            ]
          },
          "metadata": {
            "tags": []
          },
          "execution_count": 247
        }
      ]
    },
    {
      "cell_type": "code",
      "metadata": {
        "id": "92bI8n5dg9Zb",
        "outputId": "ebecc8cb-c657-45b9-8ae1-914f51e86f09",
        "colab": {
          "base_uri": "https://localhost:8080/"
        }
      },
      "source": [
        "#buscando quais são as cidades duplicadas\n",
        "ultimo_boletim_municipal['duplicado'] = ultimo_boletim_municipal.duplicated('city')"
      ],
      "execution_count": 257,
      "outputs": [
        {
          "output_type": "stream",
          "text": [
            "/usr/local/lib/python3.6/dist-packages/ipykernel_launcher.py:2: SettingWithCopyWarning: \n",
            "A value is trying to be set on a copy of a slice from a DataFrame.\n",
            "Try using .loc[row_indexer,col_indexer] = value instead\n",
            "\n",
            "See the caveats in the documentation: https://pandas.pydata.org/pandas-docs/stable/user_guide/indexing.html#returning-a-view-versus-a-copy\n",
            "  \n"
          ],
          "name": "stderr"
        }
      ]
    },
    {
      "cell_type": "code",
      "metadata": {
        "id": "NQ5AXAeIhJaj",
        "outputId": "66eec617-7ae5-49ea-cafb-6c5a7f3ab520",
        "colab": {
          "base_uri": "https://localhost:8080/"
        }
      },
      "source": [
        "#vendo a quantidade de cidades duplicadas\n",
        "ultimo_boletim_municipal.query('duplicado == True').shape"
      ],
      "execution_count": 260,
      "outputs": [
        {
          "output_type": "execute_result",
          "data": {
            "text/plain": [
              "(273, 14)"
            ]
          },
          "metadata": {
            "tags": []
          },
          "execution_count": 260
        }
      ]
    },
    {
      "cell_type": "code",
      "metadata": {
        "id": "9nXFtbkgiWBj",
        "outputId": "ac1f9e49-954a-4b24-8e3a-326aa00d12ef",
        "colab": {
          "base_uri": "https://localhost:8080/"
        }
      },
      "source": [
        "#vendo a lista de cidades duplicadas\n",
        "print(list(ultimo_boletim_municipal.query('duplicado == True')['city']))"
      ],
      "execution_count": 262,
      "outputs": [
        {
          "output_type": "stream",
          "text": [
            "['Milagres', 'Santana', 'Bonito', 'Campo Grande', 'Jardim', 'Mundo Novo', 'Presidente Dutra', 'Santa Inês', 'Santa Luzia', 'Viana', 'Barro Alto', 'Davinópolis', 'Hidrolândia', 'Jussara', 'Morrinhos', 'Mundo Novo', 'Piranhas', 'São Domingos', 'Canarana', 'Rio Branco', 'Belém', 'Bonito', 'Redenção', 'Barra de São Miguel', 'Belém', 'Conde', 'Mulungu', 'Nova Olinda', 'Pedra Branca', 'Pilar', 'Queimadas', 'Riachão', 'Santa Helena', 'Santa Inês', 'Santa Luzia', 'Santa Rita', 'Santa Teresinha', 'São Bento', 'São Domingos', 'Taperoá', 'Água Branca', 'Alagoinha', 'Bom Jardim', 'Bonito', 'Cedro', 'Condado', 'Itambé', 'Jatobá', 'Paulista', 'Primavera', 'Quixaba', 'Salgadinho', 'Santa Cruz', 'Santa Terezinha', 'Terra Nova', 'Trindade', 'Triunfo', 'Batalha', 'Bom Jesus', 'Caracol', 'Jurema', 'Novo Santo Antônio', 'Santa Filomena', 'Várzea Grande', 'Água Branca', 'Boa Esperança', 'Bom Sucesso', 'Cachoeira Dourada', 'Campestre', 'Candeias', 'Canápolis', 'Formoso', 'Lagoa Grande', 'Lagoa Santa', 'Ouro Branco', 'Prata', 'Presidente Juscelino', 'Santa Bárbara', 'Santa Luzia', 'São Francisco', 'São José do Divino', 'São João do Paraíso', 'Viçosa', 'Água Boa', 'Buritis', 'Nova União', 'Presidente Médici', 'Bom Jardim', 'Cantagalo', 'Mesquita', 'Sapucaia', 'Valença', 'Baraúna', 'Bom Jesus', 'Brejinho', 'Campo Grande', 'Caraúbas', 'Itajá', 'Jandaíra', 'Jundiá', 'Monte Alegre', 'Ouro Branco', 'Parnamirim', 'Passagem', 'Pedra Preta', 'Pilões', 'Riacho de Santana', 'Ruy Barbosa', 'Santa Cruz', 'Serrinha', 'São Gonçalo do Amarante', 'Sítio Novo', 'Vera Cruz', 'Viçosa', 'Várzea', 'Alto Paraíso', 'Araruna', 'Atalaia', 'Bandeirantes', 'Boa Esperança', 'Bom Sucesso', 'Cantagalo', 'Capanema', 'Cascavel', 'Cruzeiro do Sul', 'Douradina', 'Floresta', 'General Carneiro', 'Iguatu', 'Inajá', 'Indianópolis', 'Itambé', 'Japurá', 'Jussara', 'Laranjal', 'Mirador', 'Nova Aurora', 'Nova Fátima', 'Nova Olímpia', 'Planalto', 'Rio Negro', 'Santa Helena', 'Santa Inês', 'São João', 'São Tomé', 'Tapira', 'Toledo', 'Wenceslau Braz', 'Boa Vista', 'Bonfim', 'Iracema', 'Areia Branca', 'Capela', 'Feira Nova', 'Itabaiana', 'Pacatuba', 'Pinhão', 'Riachuelo', 'São Domingos', 'São Francisco', 'Anchieta', 'Antônio Carlos', 'Aurora', 'Belmonte', 'Bom Jesus', 'Campo Alegre', 'Catanduvas', 'Entre Rios', 'Guaraciaba', 'Irati', 'Itapiranga', 'Maravilha', 'Massaranduba', 'Nova Veneza', 'Novo Horizonte', 'Palmeira', 'Petrolândia', 'Santa Cecília', 'Santa Helena', 'Santa Rosa de Lima', 'Santa Terezinha', 'São Domingos', 'São João Batista', 'Tangará', 'Turvo', 'Vargem Bonita', 'Alto Alegre', 'Barracão', 'Bom Jesus', 'Cachoeirinha', 'Caiçara', 'Colinas', 'Colorado', 'Cruzeiro do Sul', 'Humaitá', 'Independência', 'Jacutinga', 'Nova Santa Rita', 'Planalto', 'Santa Maria', 'Sarandi', 'Sobradinho', 'Soledade', 'São Francisco de Paula', 'São Gabriel', 'São Martinho', 'Tapejara', 'Tavares', 'Triunfo', 'Vera Cruz', 'Alvorada', 'Araguanã', 'Bom Jesus do Tocantins', 'Cachoeirinha', 'Centenário', 'Esperantina', 'Filadélfia', 'Fátima', 'Ipueiras', 'Lajeado', 'Natividade', 'Nazaré', 'Nova Olinda', 'Palmas', \"Pau D'Arco\", 'Presidente Kennedy', 'Riachinho', 'Alto Alegre', 'Amparo', 'Aparecida', 'Barra Bonita', 'Bocaina', 'Borborema', 'Cafelândia', 'Cedral', 'Eldorado', 'Estrela do Norte', 'Guaraci', 'Guaíra', 'Itapeva', 'Itaporanga', 'Jaborandi', 'Jardinópolis', 'Monte Castelo', 'Novo Horizonte', 'Ouro Verde', 'Palestina', 'Palmital', 'Paraíso', 'Pinhalzinho', 'Pitangueiras', 'Planalto', 'Praia Grande', 'Presidente Bernardes', 'Rio Claro', 'Saltinho', 'Santa Isabel', 'Santa Lúcia', 'Santo André', 'Sertãozinho', 'São Carlos', 'São Francisco', 'São Pedro', 'São Sebastião', 'São Simão', 'São Vicente', 'Tabatinga', 'Tapiraí', 'Teodoro Sampaio', 'Terra Roxa', 'Turmalina', 'Vargem', 'Vera Cruz']\n"
          ],
          "name": "stdout"
        }
      ]
    },
    {
      "cell_type": "markdown",
      "metadata": {
        "id": "CRENK8JGjC9Y"
      },
      "source": [
        "### Próximo passo: Verificar qual dos dados entre as cidades duplicadas é o mais recente para manter no dataset"
      ]
    },
    {
      "cell_type": "code",
      "metadata": {
        "id": "bTiTYLQdiusB"
      },
      "source": [
        ""
      ],
      "execution_count": null,
      "outputs": []
    }
  ]
}