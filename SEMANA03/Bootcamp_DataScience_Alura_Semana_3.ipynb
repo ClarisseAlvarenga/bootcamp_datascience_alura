{
  "nbformat": 4,
  "nbformat_minor": 0,
  "metadata": {
    "colab": {
      "name": "Bootcamp DataScience Alura - Semana 3.ipynb",
      "provenance": []
    },
    "kernelspec": {
      "name": "python3",
      "display_name": "Python 3"
    }
  },
  "cells": [
    {
      "cell_type": "markdown",
      "metadata": {
        "id": "JRds76BmF8HB"
      },
      "source": [
        "# **BOOTCAMP DATA SCIENCE ALURA - SEMANA 03**"
      ]
    },
    {
      "cell_type": "markdown",
      "metadata": {
        "id": "xbCC65YOGDn-"
      },
      "source": [
        "## **ANÁLISE PeNSE 2015 - AMOSTRA 2**"
      ]
    },
    {
      "cell_type": "markdown",
      "metadata": {
        "id": "vqE_ktDSJ2Om"
      },
      "source": [
        "### **AULA 01 - EDUCAÇÃO, SAÚDE E TIPOS DE DADOS**"
      ]
    },
    {
      "cell_type": "code",
      "metadata": {
        "id": "3YiLtraEwxeP"
      },
      "source": [
        "import pandas as pd\n",
        "#importando biblioteca para ler arquivos zipados\n",
        "from zipfile import ZipFile\n",
        "caminho = '/content/drive/MyDrive/bootcamp_alura/PeNSE_2015_AMOSTRA2.zip'"
      ],
      "execution_count": 1,
      "outputs": []
    },
    {
      "cell_type": "code",
      "metadata": {
        "id": "0LpLDvGlGr3O"
      },
      "source": [
        "#se temos apenas um arquivo do tipo zip, o pandas consegue ler, \n",
        "#no entanto esta pasta possui mais do que um arquivo\n",
        "#abrindo o arquivo\n",
        "zip = ZipFile(caminho)\n"
      ],
      "execution_count": 2,
      "outputs": []
    },
    {
      "cell_type": "code",
      "metadata": {
        "colab": {
          "base_uri": "https://localhost:8080/"
        },
        "id": "bB6UlUsVHzHM",
        "outputId": "41001284-53f4-437a-8549-92a312e3354b"
      },
      "source": [
        "#buscando informações dos arquivos zipados\n",
        "zip.infolist()"
      ],
      "execution_count": 3,
      "outputs": [
        {
          "output_type": "execute_result",
          "data": {
            "text/plain": [
              "[<ZipInfo filename='arquivos csv/' external_attr=0x10>,\n",
              " <ZipInfo filename='arquivos csv/PENSE_AMOSTRA2_ALUNO.CSV' compress_type=deflate external_attr=0x20 file_size=7262170 compress_size=1235667>,\n",
              " <ZipInfo filename='arquivos csv/PENSE_AMOSTRA2_ALUNOESCOLA.CSV' compress_type=deflate external_attr=0x20 file_size=11420533 compress_size=1329882>,\n",
              " <ZipInfo filename='arquivos csv/PENSE_AMOSTRA2_ESCOLA.CSV' compress_type=deflate external_attr=0x20 file_size=5000642 compress_size=114324>,\n",
              " <ZipInfo filename='arquivos sas/' external_attr=0x10>,\n",
              " <ZipInfo filename='arquivos sas/pense_amostra2_aluno.sas7bdat' compress_type=deflate external_attr=0x20 file_size=24691712 compress_size=1957530>,\n",
              " <ZipInfo filename='arquivos sas/pense_amostra2_alunoescola.sas7bdat' compress_type=deflate external_attr=0x20 file_size=45253632 compress_size=2461932>,\n",
              " <ZipInfo filename='arquivos sas/pense_amostra2_escola.sas7bdat' compress_type=deflate external_attr=0x20 file_size=18105344 compress_size=332162>,\n",
              " <ZipInfo filename='arquivos xlsx/' external_attr=0x10>,\n",
              " <ZipInfo filename='arquivos xlsx/PENSE_AMOSTRA2_ALUNO.xlsx' compress_type=deflate external_attr=0x20 file_size=11757246 compress_size=11337133>,\n",
              " <ZipInfo filename='arquivos xlsx/PENSE_AMOSTRA2_ALUNOESCOLA.xlsx' compress_type=deflate external_attr=0x20 file_size=18732739 compress_size=17064325>,\n",
              " <ZipInfo filename='arquivos xlsx/PENSE_AMOSTRA2_ESCOLA.xlsx' compress_type=deflate external_attr=0x20 file_size=7159579 compress_size=3209953>,\n",
              " <ZipInfo filename='Dicionario_PENSE_Microdados_AMOSTRA2.xls' compress_type=deflate external_attr=0x20 file_size=144896 compress_size=35737>]"
            ]
          },
          "metadata": {
            "tags": []
          },
          "execution_count": 3
        }
      ]
    },
    {
      "cell_type": "code",
      "metadata": {
        "colab": {
          "base_uri": "https://localhost:8080/"
        },
        "id": "4SYJAJHrIOEX",
        "outputId": "0e2ab5f2-0a04-4dd5-ba62-5cd8f9b05bb6"
      },
      "source": [
        "#buscando apenas pelos nomes\n",
        "zip.namelist()"
      ],
      "execution_count": 4,
      "outputs": [
        {
          "output_type": "execute_result",
          "data": {
            "text/plain": [
              "['arquivos csv/',\n",
              " 'arquivos csv/PENSE_AMOSTRA2_ALUNO.CSV',\n",
              " 'arquivos csv/PENSE_AMOSTRA2_ALUNOESCOLA.CSV',\n",
              " 'arquivos csv/PENSE_AMOSTRA2_ESCOLA.CSV',\n",
              " 'arquivos sas/',\n",
              " 'arquivos sas/pense_amostra2_aluno.sas7bdat',\n",
              " 'arquivos sas/pense_amostra2_alunoescola.sas7bdat',\n",
              " 'arquivos sas/pense_amostra2_escola.sas7bdat',\n",
              " 'arquivos xlsx/',\n",
              " 'arquivos xlsx/PENSE_AMOSTRA2_ALUNO.xlsx',\n",
              " 'arquivos xlsx/PENSE_AMOSTRA2_ALUNOESCOLA.xlsx',\n",
              " 'arquivos xlsx/PENSE_AMOSTRA2_ESCOLA.xlsx',\n",
              " 'Dicionario_PENSE_Microdados_AMOSTRA2.xls']"
            ]
          },
          "metadata": {
            "tags": []
          },
          "execution_count": 4
        }
      ]
    },
    {
      "cell_type": "code",
      "metadata": {
        "id": "_V4fySKFIaLY"
      },
      "source": [
        "#passando o arquivo que eu quero para uma variável descritiva\n",
        "caminho_na_pasta_zipada = zip.namelist()[1]"
      ],
      "execution_count": 5,
      "outputs": []
    },
    {
      "cell_type": "code",
      "metadata": {
        "id": "ZSFgklGHHl3k"
      },
      "source": [
        "#lendo o arquivo\n",
        "dados = pd.read_csv(zip.open(caminho_na_pasta_zipada), sep=';', thousands = \".\", decimal=\",\")"
      ],
      "execution_count": 6,
      "outputs": []
    },
    {
      "cell_type": "code",
      "metadata": {
        "colab": {
          "base_uri": "https://localhost:8080/",
          "height": 244
        },
        "id": "nCC-aksIIooz",
        "outputId": "185d86d4-ce13-4a56-ed7d-d796f7d4623d"
      },
      "source": [
        "dados.head()"
      ],
      "execution_count": 7,
      "outputs": [
        {
          "output_type": "execute_result",
          "data": {
            "text/html": [
              "<div>\n",
              "<style scoped>\n",
              "    .dataframe tbody tr th:only-of-type {\n",
              "        vertical-align: middle;\n",
              "    }\n",
              "\n",
              "    .dataframe tbody tr th {\n",
              "        vertical-align: top;\n",
              "    }\n",
              "\n",
              "    .dataframe thead th {\n",
              "        text-align: right;\n",
              "    }\n",
              "</style>\n",
              "<table border=\"1\" class=\"dataframe\">\n",
              "  <thead>\n",
              "    <tr style=\"text-align: right;\">\n",
              "      <th></th>\n",
              "      <th>ANOPESQ</th>\n",
              "      <th>PAIS</th>\n",
              "      <th>REGEOGR</th>\n",
              "      <th>VB00004</th>\n",
              "      <th>VB01001</th>\n",
              "      <th>VB01002</th>\n",
              "      <th>VB01003</th>\n",
              "      <th>VB01004</th>\n",
              "      <th>VB01005</th>\n",
              "      <th>VB01006</th>\n",
              "      <th>VB01007</th>\n",
              "      <th>VB01008A</th>\n",
              "      <th>VB01010A</th>\n",
              "      <th>VB01011</th>\n",
              "      <th>VB01012</th>\n",
              "      <th>VB01013</th>\n",
              "      <th>VB01014</th>\n",
              "      <th>VB01015A</th>\n",
              "      <th>VB01016</th>\n",
              "      <th>VB01017</th>\n",
              "      <th>VB01018</th>\n",
              "      <th>VB01019</th>\n",
              "      <th>VB01020A</th>\n",
              "      <th>VB01021</th>\n",
              "      <th>VB01022</th>\n",
              "      <th>VB01023</th>\n",
              "      <th>VB01024</th>\n",
              "      <th>VB01025</th>\n",
              "      <th>VB01026</th>\n",
              "      <th>VB02001</th>\n",
              "      <th>VB02002</th>\n",
              "      <th>VB02004A</th>\n",
              "      <th>VB02010</th>\n",
              "      <th>VB02011</th>\n",
              "      <th>VB02013</th>\n",
              "      <th>VB02017A</th>\n",
              "      <th>VB02018A</th>\n",
              "      <th>VB02019A</th>\n",
              "      <th>VB02020A</th>\n",
              "      <th>VB02021</th>\n",
              "      <th>...</th>\n",
              "      <th>VB11005</th>\n",
              "      <th>VB11006</th>\n",
              "      <th>VB11007</th>\n",
              "      <th>VB12001</th>\n",
              "      <th>VB12002</th>\n",
              "      <th>VB12003</th>\n",
              "      <th>VB13001</th>\n",
              "      <th>VB13002A</th>\n",
              "      <th>VB13004A</th>\n",
              "      <th>VB13005</th>\n",
              "      <th>VB13006</th>\n",
              "      <th>VB13007</th>\n",
              "      <th>VB13008</th>\n",
              "      <th>VB13009</th>\n",
              "      <th>VB14001</th>\n",
              "      <th>VB14002</th>\n",
              "      <th>VB16001A01</th>\n",
              "      <th>VB16001A02</th>\n",
              "      <th>VB16001A03</th>\n",
              "      <th>VB16001A04</th>\n",
              "      <th>VB16001A05</th>\n",
              "      <th>VB16001A06</th>\n",
              "      <th>VB16001A07</th>\n",
              "      <th>VB16001A08</th>\n",
              "      <th>VB17001</th>\n",
              "      <th>VB17002</th>\n",
              "      <th>VB17003</th>\n",
              "      <th>VB17004</th>\n",
              "      <th>VB17005</th>\n",
              "      <th>VB17006</th>\n",
              "      <th>ESTRATO_EXP</th>\n",
              "      <th>ESTRATOGEOREG</th>\n",
              "      <th>PESO</th>\n",
              "      <th>V0006</th>\n",
              "      <th>V0007</th>\n",
              "      <th>V0008</th>\n",
              "      <th>V0041</th>\n",
              "      <th>aluno</th>\n",
              "      <th>escola</th>\n",
              "      <th>turma</th>\n",
              "    </tr>\n",
              "  </thead>\n",
              "  <tbody>\n",
              "    <tr>\n",
              "      <th>0</th>\n",
              "      <td>2015</td>\n",
              "      <td>76</td>\n",
              "      <td>1</td>\n",
              "      <td>1</td>\n",
              "      <td>2</td>\n",
              "      <td>1</td>\n",
              "      <td>13</td>\n",
              "      <td>7</td>\n",
              "      <td>7</td>\n",
              "      <td>1</td>\n",
              "      <td>2</td>\n",
              "      <td>7</td>\n",
              "      <td>3</td>\n",
              "      <td>2</td>\n",
              "      <td>-1</td>\n",
              "      <td>1</td>\n",
              "      <td>1</td>\n",
              "      <td>1</td>\n",
              "      <td>1</td>\n",
              "      <td>1</td>\n",
              "      <td>2</td>\n",
              "      <td>4</td>\n",
              "      <td>2</td>\n",
              "      <td>4</td>\n",
              "      <td>1</td>\n",
              "      <td>2</td>\n",
              "      <td>2</td>\n",
              "      <td>5</td>\n",
              "      <td>1</td>\n",
              "      <td>8</td>\n",
              "      <td>3</td>\n",
              "      <td>4</td>\n",
              "      <td>3</td>\n",
              "      <td>6</td>\n",
              "      <td>6</td>\n",
              "      <td>1</td>\n",
              "      <td>6</td>\n",
              "      <td>1</td>\n",
              "      <td>-1</td>\n",
              "      <td>2</td>\n",
              "      <td>...</td>\n",
              "      <td>2</td>\n",
              "      <td>1</td>\n",
              "      <td>2</td>\n",
              "      <td>1</td>\n",
              "      <td>1</td>\n",
              "      <td>4</td>\n",
              "      <td>2</td>\n",
              "      <td>-1</td>\n",
              "      <td>3</td>\n",
              "      <td>1</td>\n",
              "      <td>1</td>\n",
              "      <td>-1</td>\n",
              "      <td>1</td>\n",
              "      <td>1</td>\n",
              "      <td>2</td>\n",
              "      <td>2</td>\n",
              "      <td>1</td>\n",
              "      <td>2</td>\n",
              "      <td>2</td>\n",
              "      <td>2</td>\n",
              "      <td>2</td>\n",
              "      <td>2</td>\n",
              "      <td>2</td>\n",
              "      <td>2</td>\n",
              "      <td>371.0</td>\n",
              "      <td>1570.0</td>\n",
              "      <td>37.1</td>\n",
              "      <td>157.0</td>\n",
              "      <td>2</td>\n",
              "      <td>1</td>\n",
              "      <td>1223</td>\n",
              "      <td>1</td>\n",
              "      <td>299.735235</td>\n",
              "      <td>1</td>\n",
              "      <td>2</td>\n",
              "      <td>4</td>\n",
              "      <td>1</td>\n",
              "      <td>1</td>\n",
              "      <td>1</td>\n",
              "      <td>296</td>\n",
              "    </tr>\n",
              "    <tr>\n",
              "      <th>1</th>\n",
              "      <td>2015</td>\n",
              "      <td>76</td>\n",
              "      <td>1</td>\n",
              "      <td>1</td>\n",
              "      <td>2</td>\n",
              "      <td>1</td>\n",
              "      <td>14</td>\n",
              "      <td>4</td>\n",
              "      <td>7</td>\n",
              "      <td>1</td>\n",
              "      <td>1</td>\n",
              "      <td>7</td>\n",
              "      <td>3</td>\n",
              "      <td>2</td>\n",
              "      <td>-1</td>\n",
              "      <td>1</td>\n",
              "      <td>1</td>\n",
              "      <td>1</td>\n",
              "      <td>1</td>\n",
              "      <td>1</td>\n",
              "      <td>2</td>\n",
              "      <td>2</td>\n",
              "      <td>2</td>\n",
              "      <td>4</td>\n",
              "      <td>1</td>\n",
              "      <td>2</td>\n",
              "      <td>2</td>\n",
              "      <td>5</td>\n",
              "      <td>3</td>\n",
              "      <td>8</td>\n",
              "      <td>2</td>\n",
              "      <td>1</td>\n",
              "      <td>8</td>\n",
              "      <td>8</td>\n",
              "      <td>6</td>\n",
              "      <td>1</td>\n",
              "      <td>1</td>\n",
              "      <td>5</td>\n",
              "      <td>-1</td>\n",
              "      <td>2</td>\n",
              "      <td>...</td>\n",
              "      <td>2</td>\n",
              "      <td>3</td>\n",
              "      <td>2</td>\n",
              "      <td>4</td>\n",
              "      <td>4</td>\n",
              "      <td>4</td>\n",
              "      <td>1</td>\n",
              "      <td>2</td>\n",
              "      <td>3</td>\n",
              "      <td>3</td>\n",
              "      <td>1</td>\n",
              "      <td>-1</td>\n",
              "      <td>1</td>\n",
              "      <td>1</td>\n",
              "      <td>2</td>\n",
              "      <td>2</td>\n",
              "      <td>2</td>\n",
              "      <td>2</td>\n",
              "      <td>2</td>\n",
              "      <td>1</td>\n",
              "      <td>2</td>\n",
              "      <td>2</td>\n",
              "      <td>2</td>\n",
              "      <td>2</td>\n",
              "      <td>502.0</td>\n",
              "      <td>1520.0</td>\n",
              "      <td>50.2</td>\n",
              "      <td>152.0</td>\n",
              "      <td>2</td>\n",
              "      <td>2</td>\n",
              "      <td>1223</td>\n",
              "      <td>1</td>\n",
              "      <td>355.170081</td>\n",
              "      <td>1</td>\n",
              "      <td>2</td>\n",
              "      <td>4</td>\n",
              "      <td>1</td>\n",
              "      <td>2</td>\n",
              "      <td>1</td>\n",
              "      <td>296</td>\n",
              "    </tr>\n",
              "    <tr>\n",
              "      <th>2</th>\n",
              "      <td>2015</td>\n",
              "      <td>76</td>\n",
              "      <td>1</td>\n",
              "      <td>1</td>\n",
              "      <td>1</td>\n",
              "      <td>4</td>\n",
              "      <td>13</td>\n",
              "      <td>6</td>\n",
              "      <td>7</td>\n",
              "      <td>1</td>\n",
              "      <td>1</td>\n",
              "      <td>5</td>\n",
              "      <td>5</td>\n",
              "      <td>2</td>\n",
              "      <td>-1</td>\n",
              "      <td>2</td>\n",
              "      <td>1</td>\n",
              "      <td>1</td>\n",
              "      <td>1</td>\n",
              "      <td>1</td>\n",
              "      <td>2</td>\n",
              "      <td>3</td>\n",
              "      <td>1</td>\n",
              "      <td>4</td>\n",
              "      <td>1</td>\n",
              "      <td>2</td>\n",
              "      <td>2</td>\n",
              "      <td>5</td>\n",
              "      <td>3</td>\n",
              "      <td>2</td>\n",
              "      <td>3</td>\n",
              "      <td>1</td>\n",
              "      <td>8</td>\n",
              "      <td>2</td>\n",
              "      <td>8</td>\n",
              "      <td>1</td>\n",
              "      <td>1</td>\n",
              "      <td>5</td>\n",
              "      <td>5</td>\n",
              "      <td>1</td>\n",
              "      <td>...</td>\n",
              "      <td>2</td>\n",
              "      <td>1</td>\n",
              "      <td>2</td>\n",
              "      <td>1</td>\n",
              "      <td>2</td>\n",
              "      <td>3</td>\n",
              "      <td>1</td>\n",
              "      <td>2</td>\n",
              "      <td>1</td>\n",
              "      <td>2</td>\n",
              "      <td>5</td>\n",
              "      <td>99</td>\n",
              "      <td>1</td>\n",
              "      <td>-1</td>\n",
              "      <td>2</td>\n",
              "      <td>2</td>\n",
              "      <td>1</td>\n",
              "      <td>1</td>\n",
              "      <td>1</td>\n",
              "      <td>1</td>\n",
              "      <td>1</td>\n",
              "      <td>1</td>\n",
              "      <td>1</td>\n",
              "      <td>1</td>\n",
              "      <td>482.0</td>\n",
              "      <td>1614.0</td>\n",
              "      <td>48.2</td>\n",
              "      <td>161.4</td>\n",
              "      <td>2</td>\n",
              "      <td>2</td>\n",
              "      <td>1223</td>\n",
              "      <td>1</td>\n",
              "      <td>299.735235</td>\n",
              "      <td>1</td>\n",
              "      <td>2</td>\n",
              "      <td>4</td>\n",
              "      <td>1</td>\n",
              "      <td>3</td>\n",
              "      <td>1</td>\n",
              "      <td>296</td>\n",
              "    </tr>\n",
              "    <tr>\n",
              "      <th>3</th>\n",
              "      <td>2015</td>\n",
              "      <td>76</td>\n",
              "      <td>1</td>\n",
              "      <td>1</td>\n",
              "      <td>1</td>\n",
              "      <td>1</td>\n",
              "      <td>14</td>\n",
              "      <td>6</td>\n",
              "      <td>7</td>\n",
              "      <td>1</td>\n",
              "      <td>1</td>\n",
              "      <td>7</td>\n",
              "      <td>4</td>\n",
              "      <td>2</td>\n",
              "      <td>-1</td>\n",
              "      <td>1</td>\n",
              "      <td>1</td>\n",
              "      <td>1</td>\n",
              "      <td>1</td>\n",
              "      <td>1</td>\n",
              "      <td>2</td>\n",
              "      <td>4</td>\n",
              "      <td>2</td>\n",
              "      <td>4</td>\n",
              "      <td>1</td>\n",
              "      <td>2</td>\n",
              "      <td>2</td>\n",
              "      <td>6</td>\n",
              "      <td>3</td>\n",
              "      <td>2</td>\n",
              "      <td>4</td>\n",
              "      <td>1</td>\n",
              "      <td>3</td>\n",
              "      <td>2</td>\n",
              "      <td>7</td>\n",
              "      <td>1</td>\n",
              "      <td>5</td>\n",
              "      <td>1</td>\n",
              "      <td>-1</td>\n",
              "      <td>2</td>\n",
              "      <td>...</td>\n",
              "      <td>2</td>\n",
              "      <td>1</td>\n",
              "      <td>2</td>\n",
              "      <td>2</td>\n",
              "      <td>2</td>\n",
              "      <td>4</td>\n",
              "      <td>1</td>\n",
              "      <td>10</td>\n",
              "      <td>3</td>\n",
              "      <td>1</td>\n",
              "      <td>2</td>\n",
              "      <td>-1</td>\n",
              "      <td>1</td>\n",
              "      <td>-1</td>\n",
              "      <td>2</td>\n",
              "      <td>2</td>\n",
              "      <td>1</td>\n",
              "      <td>2</td>\n",
              "      <td>2</td>\n",
              "      <td>2</td>\n",
              "      <td>1</td>\n",
              "      <td>2</td>\n",
              "      <td>2</td>\n",
              "      <td>2</td>\n",
              "      <td>694.0</td>\n",
              "      <td>1725.0</td>\n",
              "      <td>69.4</td>\n",
              "      <td>172.5</td>\n",
              "      <td>2</td>\n",
              "      <td>3</td>\n",
              "      <td>1223</td>\n",
              "      <td>1</td>\n",
              "      <td>355.170081</td>\n",
              "      <td>1</td>\n",
              "      <td>2</td>\n",
              "      <td>4</td>\n",
              "      <td>1</td>\n",
              "      <td>4</td>\n",
              "      <td>1</td>\n",
              "      <td>296</td>\n",
              "    </tr>\n",
              "    <tr>\n",
              "      <th>4</th>\n",
              "      <td>2015</td>\n",
              "      <td>76</td>\n",
              "      <td>1</td>\n",
              "      <td>1</td>\n",
              "      <td>1</td>\n",
              "      <td>1</td>\n",
              "      <td>13</td>\n",
              "      <td>9</td>\n",
              "      <td>7</td>\n",
              "      <td>1</td>\n",
              "      <td>2</td>\n",
              "      <td>5</td>\n",
              "      <td>4</td>\n",
              "      <td>2</td>\n",
              "      <td>-1</td>\n",
              "      <td>2</td>\n",
              "      <td>1</td>\n",
              "      <td>1</td>\n",
              "      <td>1</td>\n",
              "      <td>1</td>\n",
              "      <td>2</td>\n",
              "      <td>5</td>\n",
              "      <td>1</td>\n",
              "      <td>4</td>\n",
              "      <td>1</td>\n",
              "      <td>2</td>\n",
              "      <td>2</td>\n",
              "      <td>6</td>\n",
              "      <td>5</td>\n",
              "      <td>6</td>\n",
              "      <td>3</td>\n",
              "      <td>5</td>\n",
              "      <td>2</td>\n",
              "      <td>6</td>\n",
              "      <td>2</td>\n",
              "      <td>1</td>\n",
              "      <td>5</td>\n",
              "      <td>1</td>\n",
              "      <td>5</td>\n",
              "      <td>1</td>\n",
              "      <td>...</td>\n",
              "      <td>2</td>\n",
              "      <td>1</td>\n",
              "      <td>4</td>\n",
              "      <td>2</td>\n",
              "      <td>2</td>\n",
              "      <td>4</td>\n",
              "      <td>1</td>\n",
              "      <td>3</td>\n",
              "      <td>2</td>\n",
              "      <td>2</td>\n",
              "      <td>2</td>\n",
              "      <td>13</td>\n",
              "      <td>1</td>\n",
              "      <td>-1</td>\n",
              "      <td>1</td>\n",
              "      <td>2</td>\n",
              "      <td>1</td>\n",
              "      <td>1</td>\n",
              "      <td>1</td>\n",
              "      <td>1</td>\n",
              "      <td>1</td>\n",
              "      <td>1</td>\n",
              "      <td>1</td>\n",
              "      <td>1</td>\n",
              "      <td>789.0</td>\n",
              "      <td>1675.0</td>\n",
              "      <td>78.9</td>\n",
              "      <td>167.5</td>\n",
              "      <td>2</td>\n",
              "      <td>4</td>\n",
              "      <td>1223</td>\n",
              "      <td>1</td>\n",
              "      <td>299.735235</td>\n",
              "      <td>1</td>\n",
              "      <td>2</td>\n",
              "      <td>4</td>\n",
              "      <td>1</td>\n",
              "      <td>5</td>\n",
              "      <td>1</td>\n",
              "      <td>296</td>\n",
              "    </tr>\n",
              "  </tbody>\n",
              "</table>\n",
              "<p>5 rows × 181 columns</p>\n",
              "</div>"
            ],
            "text/plain": [
              "   ANOPESQ  PAIS  REGEOGR  VB00004  VB01001  ...  V0008  V0041  aluno  escola  turma\n",
              "0     2015    76        1        1        2  ...      4      1      1       1    296\n",
              "1     2015    76        1        1        2  ...      4      1      2       1    296\n",
              "2     2015    76        1        1        1  ...      4      1      3       1    296\n",
              "3     2015    76        1        1        1  ...      4      1      4       1    296\n",
              "4     2015    76        1        1        1  ...      4      1      5       1    296\n",
              "\n",
              "[5 rows x 181 columns]"
            ]
          },
          "metadata": {
            "tags": []
          },
          "execution_count": 7
        }
      ]
    },
    {
      "cell_type": "markdown",
      "metadata": {
        "id": "a6xXz4yuI3X0"
      },
      "source": [
        "**Desafio:** Descompactar a pasta zipada usando outro método (Linux - Bash)"
      ]
    },
    {
      "cell_type": "code",
      "metadata": {
        "colab": {
          "base_uri": "https://localhost:8080/"
        },
        "id": "hdx2PVvlIuBE",
        "outputId": "12bf9d35-c05a-4b56-abd1-bf9810180786"
      },
      "source": [
        "!ls drive"
      ],
      "execution_count": 8,
      "outputs": [
        {
          "output_type": "stream",
          "text": [
            "MyDrive\n"
          ],
          "name": "stdout"
        }
      ]
    },
    {
      "cell_type": "code",
      "metadata": {
        "id": "bdjVdVM5Iy4c"
      },
      "source": [
        "#descompactando os dados com bash\n",
        "#!unzip PeNSE_2015_AMOSTRA2.zip"
      ],
      "execution_count": 9,
      "outputs": []
    },
    {
      "cell_type": "code",
      "metadata": {
        "colab": {
          "base_uri": "https://localhost:8080/"
        },
        "id": "b5aGDvdCJuH3",
        "outputId": "227ce731-40fe-47ee-d41d-b20b9b6095ab"
      },
      "source": [
        "#visualização colunas\r\n",
        "dados.columns"
      ],
      "execution_count": 10,
      "outputs": [
        {
          "output_type": "execute_result",
          "data": {
            "text/plain": [
              "Index(['ANOPESQ', 'PAIS', 'REGEOGR', 'VB00004', 'VB01001', 'VB01002',\n",
              "       'VB01003', 'VB01004', 'VB01005', 'VB01006',\n",
              "       ...\n",
              "       'ESTRATO_EXP', 'ESTRATOGEOREG', 'PESO', 'V0006', 'V0007', 'V0008',\n",
              "       'V0041', 'aluno', 'escola', 'turma'],\n",
              "      dtype='object', length=181)"
            ]
          },
          "metadata": {
            "tags": []
          },
          "execution_count": 10
        }
      ]
    },
    {
      "cell_type": "code",
      "metadata": {
        "colab": {
          "base_uri": "https://localhost:8080/"
        },
        "id": "cHLaQV2HKBk3",
        "outputId": "7edef7ec-de11-4ab9-d2a9-58c11ef45a33"
      },
      "source": [
        "#informações dos dados\r\n",
        "dados.info()"
      ],
      "execution_count": 11,
      "outputs": [
        {
          "output_type": "stream",
          "text": [
            "<class 'pandas.core.frame.DataFrame'>\n",
            "RangeIndex: 16556 entries, 0 to 16555\n",
            "Columns: 181 entries, ANOPESQ to turma\n",
            "dtypes: float64(10), int64(171)\n",
            "memory usage: 22.9 MB\n"
          ],
          "name": "stdout"
        }
      ]
    },
    {
      "cell_type": "code",
      "metadata": {
        "colab": {
          "base_uri": "https://localhost:8080/",
          "height": 402
        },
        "id": "BZFnaXm4MhG6",
        "outputId": "25797bd3-9fde-4dfb-dabd-9d747cb5ea23"
      },
      "source": [
        "#dados numéricos do tipo float\r\n",
        "dados.select_dtypes(include='float64')"
      ],
      "execution_count": 12,
      "outputs": [
        {
          "output_type": "execute_result",
          "data": {
            "text/html": [
              "<div>\n",
              "<style scoped>\n",
              "    .dataframe tbody tr th:only-of-type {\n",
              "        vertical-align: middle;\n",
              "    }\n",
              "\n",
              "    .dataframe tbody tr th {\n",
              "        vertical-align: top;\n",
              "    }\n",
              "\n",
              "    .dataframe thead th {\n",
              "        text-align: right;\n",
              "    }\n",
              "</style>\n",
              "<table border=\"1\" class=\"dataframe\">\n",
              "  <thead>\n",
              "    <tr style=\"text-align: right;\">\n",
              "      <th></th>\n",
              "      <th>TEMPODESLOC</th>\n",
              "      <th>TEMPOTOTAL</th>\n",
              "      <th>TEMPOEDFIS</th>\n",
              "      <th>TEMPOEXTRA</th>\n",
              "      <th>TEMPOEST</th>\n",
              "      <th>VB17001</th>\n",
              "      <th>VB17002</th>\n",
              "      <th>VB17003</th>\n",
              "      <th>VB17004</th>\n",
              "      <th>PESO</th>\n",
              "    </tr>\n",
              "  </thead>\n",
              "  <tbody>\n",
              "    <tr>\n",
              "      <th>0</th>\n",
              "      <td>0.0</td>\n",
              "      <td>15.0</td>\n",
              "      <td>0.0</td>\n",
              "      <td>15.0</td>\n",
              "      <td>60.0</td>\n",
              "      <td>371.0</td>\n",
              "      <td>1570.0</td>\n",
              "      <td>37.1</td>\n",
              "      <td>157.0</td>\n",
              "      <td>299.735235</td>\n",
              "    </tr>\n",
              "    <tr>\n",
              "      <th>1</th>\n",
              "      <td>120.0</td>\n",
              "      <td>510.0</td>\n",
              "      <td>260.0</td>\n",
              "      <td>130.0</td>\n",
              "      <td>300.0</td>\n",
              "      <td>502.0</td>\n",
              "      <td>1520.0</td>\n",
              "      <td>50.2</td>\n",
              "      <td>152.0</td>\n",
              "      <td>355.170081</td>\n",
              "    </tr>\n",
              "    <tr>\n",
              "      <th>2</th>\n",
              "      <td>0.0</td>\n",
              "      <td>585.0</td>\n",
              "      <td>130.0</td>\n",
              "      <td>455.0</td>\n",
              "      <td>420.0</td>\n",
              "      <td>482.0</td>\n",
              "      <td>1614.0</td>\n",
              "      <td>48.2</td>\n",
              "      <td>161.4</td>\n",
              "      <td>299.735235</td>\n",
              "    </tr>\n",
              "    <tr>\n",
              "      <th>3</th>\n",
              "      <td>0.0</td>\n",
              "      <td>0.0</td>\n",
              "      <td>0.0</td>\n",
              "      <td>0.0</td>\n",
              "      <td>0.0</td>\n",
              "      <td>694.0</td>\n",
              "      <td>1725.0</td>\n",
              "      <td>69.4</td>\n",
              "      <td>172.5</td>\n",
              "      <td>355.170081</td>\n",
              "    </tr>\n",
              "    <tr>\n",
              "      <th>4</th>\n",
              "      <td>30.0</td>\n",
              "      <td>165.0</td>\n",
              "      <td>90.0</td>\n",
              "      <td>45.0</td>\n",
              "      <td>60.0</td>\n",
              "      <td>789.0</td>\n",
              "      <td>1675.0</td>\n",
              "      <td>78.9</td>\n",
              "      <td>167.5</td>\n",
              "      <td>299.735235</td>\n",
              "    </tr>\n",
              "    <tr>\n",
              "      <th>...</th>\n",
              "      <td>...</td>\n",
              "      <td>...</td>\n",
              "      <td>...</td>\n",
              "      <td>...</td>\n",
              "      <td>...</td>\n",
              "      <td>...</td>\n",
              "      <td>...</td>\n",
              "      <td>...</td>\n",
              "      <td>...</td>\n",
              "      <td>...</td>\n",
              "    </tr>\n",
              "    <tr>\n",
              "      <th>16551</th>\n",
              "      <td>30.0</td>\n",
              "      <td>400.0</td>\n",
              "      <td>110.0</td>\n",
              "      <td>260.0</td>\n",
              "      <td>240.0</td>\n",
              "      <td>567.0</td>\n",
              "      <td>1679.0</td>\n",
              "      <td>56.7</td>\n",
              "      <td>167.9</td>\n",
              "      <td>447.815539</td>\n",
              "    </tr>\n",
              "    <tr>\n",
              "      <th>16552</th>\n",
              "      <td>20.0</td>\n",
              "      <td>800.0</td>\n",
              "      <td>325.0</td>\n",
              "      <td>455.0</td>\n",
              "      <td>240.0</td>\n",
              "      <td>619.0</td>\n",
              "      <td>1858.0</td>\n",
              "      <td>61.9</td>\n",
              "      <td>185.8</td>\n",
              "      <td>592.507440</td>\n",
              "    </tr>\n",
              "    <tr>\n",
              "      <th>16553</th>\n",
              "      <td>0.0</td>\n",
              "      <td>0.0</td>\n",
              "      <td>0.0</td>\n",
              "      <td>0.0</td>\n",
              "      <td>60.0</td>\n",
              "      <td>609.0</td>\n",
              "      <td>1594.0</td>\n",
              "      <td>60.9</td>\n",
              "      <td>159.4</td>\n",
              "      <td>401.131512</td>\n",
              "    </tr>\n",
              "    <tr>\n",
              "      <th>16554</th>\n",
              "      <td>75.0</td>\n",
              "      <td>215.0</td>\n",
              "      <td>35.0</td>\n",
              "      <td>105.0</td>\n",
              "      <td>120.0</td>\n",
              "      <td>473.0</td>\n",
              "      <td>1578.0</td>\n",
              "      <td>47.3</td>\n",
              "      <td>157.8</td>\n",
              "      <td>442.718091</td>\n",
              "    </tr>\n",
              "    <tr>\n",
              "      <th>16555</th>\n",
              "      <td>50.0</td>\n",
              "      <td>485.0</td>\n",
              "      <td>110.0</td>\n",
              "      <td>325.0</td>\n",
              "      <td>360.0</td>\n",
              "      <td>626.0</td>\n",
              "      <td>1639.0</td>\n",
              "      <td>62.6</td>\n",
              "      <td>163.9</td>\n",
              "      <td>592.507440</td>\n",
              "    </tr>\n",
              "  </tbody>\n",
              "</table>\n",
              "<p>16556 rows × 10 columns</p>\n",
              "</div>"
            ],
            "text/plain": [
              "       TEMPODESLOC  TEMPOTOTAL  TEMPOEDFIS  ...  VB17003  VB17004        PESO\n",
              "0              0.0        15.0         0.0  ...     37.1    157.0  299.735235\n",
              "1            120.0       510.0       260.0  ...     50.2    152.0  355.170081\n",
              "2              0.0       585.0       130.0  ...     48.2    161.4  299.735235\n",
              "3              0.0         0.0         0.0  ...     69.4    172.5  355.170081\n",
              "4             30.0       165.0        90.0  ...     78.9    167.5  299.735235\n",
              "...            ...         ...         ...  ...      ...      ...         ...\n",
              "16551         30.0       400.0       110.0  ...     56.7    167.9  447.815539\n",
              "16552         20.0       800.0       325.0  ...     61.9    185.8  592.507440\n",
              "16553          0.0         0.0         0.0  ...     60.9    159.4  401.131512\n",
              "16554         75.0       215.0        35.0  ...     47.3    157.8  442.718091\n",
              "16555         50.0       485.0       110.0  ...     62.6    163.9  592.507440\n",
              "\n",
              "[16556 rows x 10 columns]"
            ]
          },
          "metadata": {
            "tags": []
          },
          "execution_count": 12
        }
      ]
    },
    {
      "cell_type": "markdown",
      "metadata": {
        "id": "3pDo4gKhtlGI"
      },
      "source": [
        "### **AULA 02 - DADOS QUALITATIVOS E TABELAS DE FREQUENCIA**"
      ]
    },
    {
      "cell_type": "code",
      "metadata": {
        "id": "9onhfMagMm9p",
        "colab": {
          "base_uri": "https://localhost:8080/"
        },
        "outputId": "b18f18a7-4e95-4cb6-82eb-cbeed48df6e1"
      },
      "source": [
        "dados['VB01001'].value_counts()"
      ],
      "execution_count": 13,
      "outputs": [
        {
          "output_type": "execute_result",
          "data": {
            "text/plain": [
              "1    8287\n",
              "2    8269\n",
              "Name: VB01001, dtype: int64"
            ]
          },
          "metadata": {
            "tags": []
          },
          "execution_count": 13
        }
      ]
    },
    {
      "cell_type": "code",
      "metadata": {
        "colab": {
          "base_uri": "https://localhost:8080/"
        },
        "id": "k6iwwdlatdwl",
        "outputId": "47613490-12c6-440c-8bdf-1893462e9ff6"
      },
      "source": [
        "#dados de gênero\r\n",
        "dados['VB01001'].value_counts(normalize=True)"
      ],
      "execution_count": 14,
      "outputs": [
        {
          "output_type": "execute_result",
          "data": {
            "text/plain": [
              "1    0.500544\n",
              "2    0.499456\n",
              "Name: VB01001, dtype: float64"
            ]
          },
          "metadata": {
            "tags": []
          },
          "execution_count": 14
        }
      ]
    },
    {
      "cell_type": "code",
      "metadata": {
        "colab": {
          "base_uri": "https://localhost:8080/"
        },
        "id": "HX7srWjUtdz8",
        "outputId": "b7f12b29-0f88-47e3-9f89-0e3af5887be8"
      },
      "source": [
        "#dados de satisfação com o corpo\r\n",
        "frequencia = dados['VB11007'].value_counts()\r\n",
        "frequencia"
      ],
      "execution_count": 15,
      "outputs": [
        {
          "output_type": "execute_result",
          "data": {
            "text/plain": [
              "2     6920\n",
              "1     4608\n",
              "4     2326\n",
              "3     1807\n",
              "5      714\n",
              "99     181\n",
              "Name: VB11007, dtype: int64"
            ]
          },
          "metadata": {
            "tags": []
          },
          "execution_count": 15
        }
      ]
    },
    {
      "cell_type": "code",
      "metadata": {
        "colab": {
          "base_uri": "https://localhost:8080/"
        },
        "id": "lJVGPQMRtd3m",
        "outputId": "1169ca6c-795b-449d-96a7-21b4ee476dd8"
      },
      "source": [
        "percentual = dados['VB11007'].value_counts(normalize=True)*100\r\n",
        "percentual"
      ],
      "execution_count": 16,
      "outputs": [
        {
          "output_type": "execute_result",
          "data": {
            "text/plain": [
              "2     41.797536\n",
              "1     27.832810\n",
              "4     14.049287\n",
              "3     10.914472\n",
              "5      4.312636\n",
              "99     1.093259\n",
              "Name: VB11007, dtype: float64"
            ]
          },
          "metadata": {
            "tags": []
          },
          "execution_count": 16
        }
      ]
    },
    {
      "cell_type": "code",
      "metadata": {
        "colab": {
          "base_uri": "https://localhost:8080/",
          "height": 0
        },
        "id": "Qpc0QSJ3td6O",
        "outputId": "3bec0b08-7770-4413-de4d-509e2dbe805d"
      },
      "source": [
        "respostas = {1: 'Muito Satisfeito', \r\n",
        "             2: 'Satisfeito',\r\n",
        "             3: 'Indiferente',\r\n",
        "             4: 'Insatisfeito',\r\n",
        "             5: 'Muito Insatisfeito',\r\n",
        "             99: 'Não Informado'}\r\n",
        "dist_freq = pd.DataFrame({\"Frequência\": frequencia, \"Percentual\": percentual})\r\n",
        "dist_freq.rename(index = respostas, inplace=True)\r\n",
        "dist_freq.rename_axis('Sentimento em relação ao seu corpo', axis=1, inplace=True)\r\n",
        "dist_freq"
      ],
      "execution_count": 17,
      "outputs": [
        {
          "output_type": "execute_result",
          "data": {
            "text/html": [
              "<div>\n",
              "<style scoped>\n",
              "    .dataframe tbody tr th:only-of-type {\n",
              "        vertical-align: middle;\n",
              "    }\n",
              "\n",
              "    .dataframe tbody tr th {\n",
              "        vertical-align: top;\n",
              "    }\n",
              "\n",
              "    .dataframe thead th {\n",
              "        text-align: right;\n",
              "    }\n",
              "</style>\n",
              "<table border=\"1\" class=\"dataframe\">\n",
              "  <thead>\n",
              "    <tr style=\"text-align: right;\">\n",
              "      <th>Sentimento em relação ao seu corpo</th>\n",
              "      <th>Frequência</th>\n",
              "      <th>Percentual</th>\n",
              "    </tr>\n",
              "  </thead>\n",
              "  <tbody>\n",
              "    <tr>\n",
              "      <th>Satisfeito</th>\n",
              "      <td>6920</td>\n",
              "      <td>41.797536</td>\n",
              "    </tr>\n",
              "    <tr>\n",
              "      <th>Muito Satisfeito</th>\n",
              "      <td>4608</td>\n",
              "      <td>27.832810</td>\n",
              "    </tr>\n",
              "    <tr>\n",
              "      <th>Insatisfeito</th>\n",
              "      <td>2326</td>\n",
              "      <td>14.049287</td>\n",
              "    </tr>\n",
              "    <tr>\n",
              "      <th>Indiferente</th>\n",
              "      <td>1807</td>\n",
              "      <td>10.914472</td>\n",
              "    </tr>\n",
              "    <tr>\n",
              "      <th>Muito Insatisfeito</th>\n",
              "      <td>714</td>\n",
              "      <td>4.312636</td>\n",
              "    </tr>\n",
              "    <tr>\n",
              "      <th>Não Informado</th>\n",
              "      <td>181</td>\n",
              "      <td>1.093259</td>\n",
              "    </tr>\n",
              "  </tbody>\n",
              "</table>\n",
              "</div>"
            ],
            "text/plain": [
              "Sentimento em relação ao seu corpo  Frequência  Percentual\n",
              "Satisfeito                                6920   41.797536\n",
              "Muito Satisfeito                          4608   27.832810\n",
              "Insatisfeito                              2326   14.049287\n",
              "Indiferente                               1807   10.914472\n",
              "Muito Insatisfeito                         714    4.312636\n",
              "Não Informado                              181    1.093259"
            ]
          },
          "metadata": {
            "tags": []
          },
          "execution_count": 17
        }
      ]
    },
    {
      "cell_type": "markdown",
      "metadata": {
        "id": "-h-obkpCxCwS"
      },
      "source": [
        "### **AULA 03 - DADOS CONTÍNUOS E TABELAS DE FREQUENCIA**"
      ]
    },
    {
      "cell_type": "code",
      "metadata": {
        "id": "V4sk0_C9xJZn"
      },
      "source": [
        "#criando uma coluna de IMC\r\n",
        "dados['IMC'] = dados['VB17003']/(dados['VB17004']/100)**2"
      ],
      "execution_count": 18,
      "outputs": []
    },
    {
      "cell_type": "code",
      "metadata": {
        "id": "-EsqvG73xJdA",
        "colab": {
          "base_uri": "https://localhost:8080/"
        },
        "outputId": "abdde26c-7853-438e-bce6-e240301d2280"
      },
      "source": [
        "dados['IMC']"
      ],
      "execution_count": 19,
      "outputs": [
        {
          "output_type": "execute_result",
          "data": {
            "text/plain": [
              "0        15.051321\n",
              "1        21.727839\n",
              "2        18.502907\n",
              "3        23.322831\n",
              "4        28.122076\n",
              "           ...    \n",
              "16551    20.113223\n",
              "16552    17.930782\n",
              "16553    23.968489\n",
              "16554    18.995343\n",
              "16555    23.303246\n",
              "Name: IMC, Length: 16556, dtype: float64"
            ]
          },
          "metadata": {
            "tags": []
          },
          "execution_count": 19
        }
      ]
    },
    {
      "cell_type": "code",
      "metadata": {
        "id": "Y55gVAhGxJgR"
      },
      "source": [
        "classes = [0,18.5, 25, 30, 60]\r\n",
        "labels = ['abaixo', 'normal', 'sobrepeso', 'obesidade']"
      ],
      "execution_count": 20,
      "outputs": []
    },
    {
      "cell_type": "code",
      "metadata": {
        "id": "qSa_GHJHxJjY",
        "colab": {
          "base_uri": "https://localhost:8080/",
          "height": 0
        },
        "outputId": "1c19d19b-0345-436b-fa4b-a161d01d1267"
      },
      "source": [
        "#criando as classificações usando o pd.cut\r\n",
        "dados['CLASSE_IMC'] = pd.cut(x= dados['IMC'], bins = classes, labels = labels, include_lowest=True)\r\n",
        "dados[['IMC', 'CLASSE_IMC']].sample(15)"
      ],
      "execution_count": 21,
      "outputs": [
        {
          "output_type": "execute_result",
          "data": {
            "text/html": [
              "<div>\n",
              "<style scoped>\n",
              "    .dataframe tbody tr th:only-of-type {\n",
              "        vertical-align: middle;\n",
              "    }\n",
              "\n",
              "    .dataframe tbody tr th {\n",
              "        vertical-align: top;\n",
              "    }\n",
              "\n",
              "    .dataframe thead th {\n",
              "        text-align: right;\n",
              "    }\n",
              "</style>\n",
              "<table border=\"1\" class=\"dataframe\">\n",
              "  <thead>\n",
              "    <tr style=\"text-align: right;\">\n",
              "      <th></th>\n",
              "      <th>IMC</th>\n",
              "      <th>CLASSE_IMC</th>\n",
              "    </tr>\n",
              "  </thead>\n",
              "  <tbody>\n",
              "    <tr>\n",
              "      <th>9250</th>\n",
              "      <td>22.081612</td>\n",
              "      <td>normal</td>\n",
              "    </tr>\n",
              "    <tr>\n",
              "      <th>7393</th>\n",
              "      <td>15.262488</td>\n",
              "      <td>abaixo</td>\n",
              "    </tr>\n",
              "    <tr>\n",
              "      <th>11018</th>\n",
              "      <td>19.706889</td>\n",
              "      <td>normal</td>\n",
              "    </tr>\n",
              "    <tr>\n",
              "      <th>1977</th>\n",
              "      <td>31.208964</td>\n",
              "      <td>obesidade</td>\n",
              "    </tr>\n",
              "    <tr>\n",
              "      <th>13319</th>\n",
              "      <td>19.480315</td>\n",
              "      <td>normal</td>\n",
              "    </tr>\n",
              "    <tr>\n",
              "      <th>3397</th>\n",
              "      <td>21.795458</td>\n",
              "      <td>normal</td>\n",
              "    </tr>\n",
              "    <tr>\n",
              "      <th>2039</th>\n",
              "      <td>20.956607</td>\n",
              "      <td>normal</td>\n",
              "    </tr>\n",
              "    <tr>\n",
              "      <th>4745</th>\n",
              "      <td>16.292591</td>\n",
              "      <td>abaixo</td>\n",
              "    </tr>\n",
              "    <tr>\n",
              "      <th>6031</th>\n",
              "      <td>23.945162</td>\n",
              "      <td>normal</td>\n",
              "    </tr>\n",
              "    <tr>\n",
              "      <th>12191</th>\n",
              "      <td>23.965142</td>\n",
              "      <td>normal</td>\n",
              "    </tr>\n",
              "    <tr>\n",
              "      <th>12575</th>\n",
              "      <td>16.102984</td>\n",
              "      <td>abaixo</td>\n",
              "    </tr>\n",
              "    <tr>\n",
              "      <th>10360</th>\n",
              "      <td>24.040310</td>\n",
              "      <td>normal</td>\n",
              "    </tr>\n",
              "    <tr>\n",
              "      <th>11733</th>\n",
              "      <td>17.120620</td>\n",
              "      <td>abaixo</td>\n",
              "    </tr>\n",
              "    <tr>\n",
              "      <th>4793</th>\n",
              "      <td>18.958043</td>\n",
              "      <td>normal</td>\n",
              "    </tr>\n",
              "    <tr>\n",
              "      <th>16355</th>\n",
              "      <td>18.217193</td>\n",
              "      <td>abaixo</td>\n",
              "    </tr>\n",
              "  </tbody>\n",
              "</table>\n",
              "</div>"
            ],
            "text/plain": [
              "             IMC CLASSE_IMC\n",
              "9250   22.081612     normal\n",
              "7393   15.262488     abaixo\n",
              "11018  19.706889     normal\n",
              "1977   31.208964  obesidade\n",
              "13319  19.480315     normal\n",
              "3397   21.795458     normal\n",
              "2039   20.956607     normal\n",
              "4745   16.292591     abaixo\n",
              "6031   23.945162     normal\n",
              "12191  23.965142     normal\n",
              "12575  16.102984     abaixo\n",
              "10360  24.040310     normal\n",
              "11733  17.120620     abaixo\n",
              "4793   18.958043     normal\n",
              "16355  18.217193     abaixo"
            ]
          },
          "metadata": {
            "tags": []
          },
          "execution_count": 21
        }
      ]
    },
    {
      "cell_type": "code",
      "metadata": {
        "id": "JRgiVlHFxJmg",
        "colab": {
          "base_uri": "https://localhost:8080/",
          "height": 0
        },
        "outputId": "fb391125-b5ec-4918-d6aa-d574e9a2f6ca"
      },
      "source": [
        "frequencia = dados['CLASSE_IMC'].value_counts()\r\n",
        "percentual = dados['CLASSE_IMC'].value_counts(normalize=True)*100\r\n",
        "dist_freq = pd.DataFrame({\"Frequência\": frequencia, \"Percentual\": percentual})\r\n",
        "dist_freq"
      ],
      "execution_count": 22,
      "outputs": [
        {
          "output_type": "execute_result",
          "data": {
            "text/html": [
              "<div>\n",
              "<style scoped>\n",
              "    .dataframe tbody tr th:only-of-type {\n",
              "        vertical-align: middle;\n",
              "    }\n",
              "\n",
              "    .dataframe tbody tr th {\n",
              "        vertical-align: top;\n",
              "    }\n",
              "\n",
              "    .dataframe thead th {\n",
              "        text-align: right;\n",
              "    }\n",
              "</style>\n",
              "<table border=\"1\" class=\"dataframe\">\n",
              "  <thead>\n",
              "    <tr style=\"text-align: right;\">\n",
              "      <th></th>\n",
              "      <th>Frequência</th>\n",
              "      <th>Percentual</th>\n",
              "    </tr>\n",
              "  </thead>\n",
              "  <tbody>\n",
              "    <tr>\n",
              "      <th>normal</th>\n",
              "      <td>9188</td>\n",
              "      <td>55.496497</td>\n",
              "    </tr>\n",
              "    <tr>\n",
              "      <th>abaixo</th>\n",
              "      <td>4975</td>\n",
              "      <td>30.049529</td>\n",
              "    </tr>\n",
              "    <tr>\n",
              "      <th>sobrepeso</th>\n",
              "      <td>1760</td>\n",
              "      <td>10.630587</td>\n",
              "    </tr>\n",
              "    <tr>\n",
              "      <th>obesidade</th>\n",
              "      <td>633</td>\n",
              "      <td>3.823387</td>\n",
              "    </tr>\n",
              "  </tbody>\n",
              "</table>\n",
              "</div>"
            ],
            "text/plain": [
              "           Frequência  Percentual\n",
              "normal           9188   55.496497\n",
              "abaixo           4975   30.049529\n",
              "sobrepeso        1760   10.630587\n",
              "obesidade         633    3.823387"
            ]
          },
          "metadata": {
            "tags": []
          },
          "execution_count": 22
        }
      ]
    },
    {
      "cell_type": "code",
      "metadata": {
        "id": "jRrbR-TM3xHi"
      },
      "source": [
        "#Criando a função que gera a tabela de frequencia\r\n",
        "def cria_tabela_freq(series):\r\n",
        "  \"\"\"\r\n",
        "  Cria uma tabela de frequencia com as classes, a frequencia e o percentual\r\n",
        "  retorna um DF.\r\n",
        "\r\n",
        "  series = Uma Series do Pandas\r\n",
        "  \"\"\"\r\n",
        "  frequencia = series.value_counts()\r\n",
        "  percentual = series.value_counts(normalize=True)\r\n",
        "  dist_freq = pd.DataFrame({\"Frequência\": frequencia, \"Percentual\": percentual})\r\n",
        "  return dist_freq"
      ],
      "execution_count": 23,
      "outputs": []
    },
    {
      "cell_type": "code",
      "metadata": {
        "id": "NzHJu6dzxJpk",
        "colab": {
          "base_uri": "https://localhost:8080/"
        },
        "outputId": "509e44dd-7538-44d1-927d-8fff6cdc780d"
      },
      "source": [
        "#vendo a altura mínima\r\n",
        "dados['VB17004'].min()"
      ],
      "execution_count": 24,
      "outputs": [
        {
          "output_type": "execute_result",
          "data": {
            "text/plain": [
              "124.1"
            ]
          },
          "metadata": {
            "tags": []
          },
          "execution_count": 24
        }
      ]
    },
    {
      "cell_type": "code",
      "metadata": {
        "colab": {
          "base_uri": "https://localhost:8080/"
        },
        "id": "fwgoItGt1acC",
        "outputId": "0377a33c-f490-49bf-b3e8-d6223a07555f"
      },
      "source": [
        "#vendo a altura máxima\r\n",
        "dados['VB17004'].max()"
      ],
      "execution_count": 25,
      "outputs": [
        {
          "output_type": "execute_result",
          "data": {
            "text/plain": [
              "195.3"
            ]
          },
          "metadata": {
            "tags": []
          },
          "execution_count": 25
        }
      ]
    },
    {
      "cell_type": "markdown",
      "metadata": {
        "id": "0SOlnBsy17iq"
      },
      "source": [
        "### Regra de Sturges para definir em quantas classes eu devo dividir uma variável:\r\n",
        "\r\n",
        "##$k = 1 + ((10/3)*log_{10}(tamanho da amostra))$"
      ]
    },
    {
      "cell_type": "code",
      "metadata": {
        "id": "vmnQ313e1afl"
      },
      "source": [
        "import numpy as np\r\n",
        "tamanho_amostra = len(dados)\r\n",
        "\r\n",
        "k = int(1+ ((10/3)*np.log10(tamanho_amostra)))\r\n"
      ],
      "execution_count": 26,
      "outputs": []
    },
    {
      "cell_type": "code",
      "metadata": {
        "id": "nePeJGsq1ajB"
      },
      "source": [
        "#criando classes para a altura usando o K\r\n",
        "dados['CLASSE_ALTURA'] = pd.cut(x= dados['VB17004'], bins = k, include_lowest=True)"
      ],
      "execution_count": 27,
      "outputs": []
    },
    {
      "cell_type": "code",
      "metadata": {
        "colab": {
          "base_uri": "https://localhost:8080/",
          "height": 0
        },
        "id": "H12lv1881al9",
        "outputId": "2b5e8182-396c-4d27-bb67-c336cc9ab2f6"
      },
      "source": [
        "cria_tabela_freq(dados['CLASSE_ALTURA'])"
      ],
      "execution_count": 28,
      "outputs": [
        {
          "output_type": "execute_result",
          "data": {
            "text/html": [
              "<div>\n",
              "<style scoped>\n",
              "    .dataframe tbody tr th:only-of-type {\n",
              "        vertical-align: middle;\n",
              "    }\n",
              "\n",
              "    .dataframe tbody tr th {\n",
              "        vertical-align: top;\n",
              "    }\n",
              "\n",
              "    .dataframe thead th {\n",
              "        text-align: right;\n",
              "    }\n",
              "</style>\n",
              "<table border=\"1\" class=\"dataframe\">\n",
              "  <thead>\n",
              "    <tr style=\"text-align: right;\">\n",
              "      <th></th>\n",
              "      <th>Frequência</th>\n",
              "      <th>Percentual</th>\n",
              "    </tr>\n",
              "  </thead>\n",
              "  <tbody>\n",
              "    <tr>\n",
              "      <th>(157.327, 162.073]</th>\n",
              "      <td>3110</td>\n",
              "      <td>0.187847</td>\n",
              "    </tr>\n",
              "    <tr>\n",
              "      <th>(152.58, 157.327]</th>\n",
              "      <td>2734</td>\n",
              "      <td>0.165137</td>\n",
              "    </tr>\n",
              "    <tr>\n",
              "      <th>(162.073, 166.82]</th>\n",
              "      <td>2550</td>\n",
              "      <td>0.154023</td>\n",
              "    </tr>\n",
              "    <tr>\n",
              "      <th>(166.82, 171.567]</th>\n",
              "      <td>2063</td>\n",
              "      <td>0.124607</td>\n",
              "    </tr>\n",
              "    <tr>\n",
              "      <th>(147.833, 152.58]</th>\n",
              "      <td>1782</td>\n",
              "      <td>0.107635</td>\n",
              "    </tr>\n",
              "    <tr>\n",
              "      <th>(171.567, 176.313]</th>\n",
              "      <td>1416</td>\n",
              "      <td>0.085528</td>\n",
              "    </tr>\n",
              "    <tr>\n",
              "      <th>(143.087, 147.833]</th>\n",
              "      <td>1012</td>\n",
              "      <td>0.061126</td>\n",
              "    </tr>\n",
              "    <tr>\n",
              "      <th>(176.313, 181.06]</th>\n",
              "      <td>749</td>\n",
              "      <td>0.045240</td>\n",
              "    </tr>\n",
              "    <tr>\n",
              "      <th>(138.34, 143.087]</th>\n",
              "      <td>484</td>\n",
              "      <td>0.029234</td>\n",
              "    </tr>\n",
              "    <tr>\n",
              "      <th>(181.06, 185.807]</th>\n",
              "      <td>300</td>\n",
              "      <td>0.018120</td>\n",
              "    </tr>\n",
              "    <tr>\n",
              "      <th>(133.593, 138.34]</th>\n",
              "      <td>199</td>\n",
              "      <td>0.012020</td>\n",
              "    </tr>\n",
              "    <tr>\n",
              "      <th>(185.807, 190.553]</th>\n",
              "      <td>94</td>\n",
              "      <td>0.005678</td>\n",
              "    </tr>\n",
              "    <tr>\n",
              "      <th>(128.847, 133.593]</th>\n",
              "      <td>47</td>\n",
              "      <td>0.002839</td>\n",
              "    </tr>\n",
              "    <tr>\n",
              "      <th>(190.553, 195.3]</th>\n",
              "      <td>13</td>\n",
              "      <td>0.000785</td>\n",
              "    </tr>\n",
              "    <tr>\n",
              "      <th>(124.02799999999999, 128.847]</th>\n",
              "      <td>3</td>\n",
              "      <td>0.000181</td>\n",
              "    </tr>\n",
              "  </tbody>\n",
              "</table>\n",
              "</div>"
            ],
            "text/plain": [
              "                               Frequência  Percentual\n",
              "(157.327, 162.073]                   3110    0.187847\n",
              "(152.58, 157.327]                    2734    0.165137\n",
              "(162.073, 166.82]                    2550    0.154023\n",
              "(166.82, 171.567]                    2063    0.124607\n",
              "(147.833, 152.58]                    1782    0.107635\n",
              "(171.567, 176.313]                   1416    0.085528\n",
              "(143.087, 147.833]                   1012    0.061126\n",
              "(176.313, 181.06]                     749    0.045240\n",
              "(138.34, 143.087]                     484    0.029234\n",
              "(181.06, 185.807]                     300    0.018120\n",
              "(133.593, 138.34]                     199    0.012020\n",
              "(185.807, 190.553]                     94    0.005678\n",
              "(128.847, 133.593]                     47    0.002839\n",
              "(190.553, 195.3]                       13    0.000785\n",
              "(124.02799999999999, 128.847]           3    0.000181"
            ]
          },
          "metadata": {
            "tags": []
          },
          "execution_count": 28
        }
      ]
    },
    {
      "cell_type": "code",
      "metadata": {
        "id": "KaK30PVC1apF"
      },
      "source": [
        "def calcula_k_sturges(amostra):\r\n",
        "  \"\"\"\r\n",
        "  Retorna a quantidade ideal de classes conforme o tamanho de uma amostra, usando a regra de Sturges\r\n",
        "  amostra = quantidade de observações numa amostra\r\n",
        "  retorna k = número inteiro representando a quantidade de classes ideal\r\n",
        "  \"\"\"\r\n",
        "  k = int(1+ ((10/3)*np.log10(amostra)))\r\n",
        "  return k\r\n"
      ],
      "execution_count": 29,
      "outputs": []
    },
    {
      "cell_type": "code",
      "metadata": {
        "id": "u5mmja9gxJs4",
        "colab": {
          "base_uri": "https://localhost:8080/",
          "height": 0
        },
        "outputId": "4222388f-9b08-47d2-f12a-4170e702c8d1"
      },
      "source": [
        "#proporção por gênero\r\n",
        "frequencia_cruzada = pd.crosstab(index = dados['VB11007'], columns = dados['VB01001'], normalize=\"columns\")*100\r\n",
        "frequencia_cruzada.rename(index = respostas, inplace=True, columns={1:'Masculino', 2:'Feminino'})\r\n",
        "frequencia_cruzada"
      ],
      "execution_count": 30,
      "outputs": [
        {
          "output_type": "execute_result",
          "data": {
            "text/html": [
              "<div>\n",
              "<style scoped>\n",
              "    .dataframe tbody tr th:only-of-type {\n",
              "        vertical-align: middle;\n",
              "    }\n",
              "\n",
              "    .dataframe tbody tr th {\n",
              "        vertical-align: top;\n",
              "    }\n",
              "\n",
              "    .dataframe thead th {\n",
              "        text-align: right;\n",
              "    }\n",
              "</style>\n",
              "<table border=\"1\" class=\"dataframe\">\n",
              "  <thead>\n",
              "    <tr style=\"text-align: right;\">\n",
              "      <th>VB01001</th>\n",
              "      <th>Masculino</th>\n",
              "      <th>Feminino</th>\n",
              "    </tr>\n",
              "    <tr>\n",
              "      <th>VB11007</th>\n",
              "      <th></th>\n",
              "      <th></th>\n",
              "    </tr>\n",
              "  </thead>\n",
              "  <tbody>\n",
              "    <tr>\n",
              "      <th>Muito Satisfeito</th>\n",
              "      <td>32.363944</td>\n",
              "      <td>23.291813</td>\n",
              "    </tr>\n",
              "    <tr>\n",
              "      <th>Satisfeito</th>\n",
              "      <td>42.114155</td>\n",
              "      <td>41.480227</td>\n",
              "    </tr>\n",
              "    <tr>\n",
              "      <th>Indiferente</th>\n",
              "      <td>11.463738</td>\n",
              "      <td>10.364010</td>\n",
              "    </tr>\n",
              "    <tr>\n",
              "      <th>Insatisfeito</th>\n",
              "      <td>9.484735</td>\n",
              "      <td>18.623776</td>\n",
              "    </tr>\n",
              "    <tr>\n",
              "      <th>Muito Insatisfeito</th>\n",
              "      <td>3.137444</td>\n",
              "      <td>5.490386</td>\n",
              "    </tr>\n",
              "    <tr>\n",
              "      <th>Não Informado</th>\n",
              "      <td>1.435984</td>\n",
              "      <td>0.749788</td>\n",
              "    </tr>\n",
              "  </tbody>\n",
              "</table>\n",
              "</div>"
            ],
            "text/plain": [
              "VB01001             Masculino   Feminino\n",
              "VB11007                                 \n",
              "Muito Satisfeito    32.363944  23.291813\n",
              "Satisfeito          42.114155  41.480227\n",
              "Indiferente         11.463738  10.364010\n",
              "Insatisfeito         9.484735  18.623776\n",
              "Muito Insatisfeito   3.137444   5.490386\n",
              "Não Informado        1.435984   0.749788"
            ]
          },
          "metadata": {
            "tags": []
          },
          "execution_count": 30
        }
      ]
    },
    {
      "cell_type": "code",
      "metadata": {
        "colab": {
          "base_uri": "https://localhost:8080/",
          "height": 0
        },
        "id": "22YrVOEY5vR2",
        "outputId": "3a83df4e-e782-4514-9204-2ecb404f6e12"
      },
      "source": [
        "#proporção por classe\r\n",
        "frequencia_cruzada = pd.crosstab(index = dados['VB11007'], columns = dados['VB01001'], normalize=\"index\")*100\r\n",
        "frequencia_cruzada.rename(index = respostas, inplace=True, columns={1:'Masculino', 2:'Feminino'})\r\n",
        "frequencia_cruzada"
      ],
      "execution_count": 31,
      "outputs": [
        {
          "output_type": "execute_result",
          "data": {
            "text/html": [
              "<div>\n",
              "<style scoped>\n",
              "    .dataframe tbody tr th:only-of-type {\n",
              "        vertical-align: middle;\n",
              "    }\n",
              "\n",
              "    .dataframe tbody tr th {\n",
              "        vertical-align: top;\n",
              "    }\n",
              "\n",
              "    .dataframe thead th {\n",
              "        text-align: right;\n",
              "    }\n",
              "</style>\n",
              "<table border=\"1\" class=\"dataframe\">\n",
              "  <thead>\n",
              "    <tr style=\"text-align: right;\">\n",
              "      <th>VB01001</th>\n",
              "      <th>Masculino</th>\n",
              "      <th>Feminino</th>\n",
              "    </tr>\n",
              "    <tr>\n",
              "      <th>VB11007</th>\n",
              "      <th></th>\n",
              "      <th></th>\n",
              "    </tr>\n",
              "  </thead>\n",
              "  <tbody>\n",
              "    <tr>\n",
              "      <th>Muito Satisfeito</th>\n",
              "      <td>58.203125</td>\n",
              "      <td>41.796875</td>\n",
              "    </tr>\n",
              "    <tr>\n",
              "      <th>Satisfeito</th>\n",
              "      <td>50.433526</td>\n",
              "      <td>49.566474</td>\n",
              "    </tr>\n",
              "    <tr>\n",
              "      <th>Indiferente</th>\n",
              "      <td>52.573326</td>\n",
              "      <td>47.426674</td>\n",
              "    </tr>\n",
              "    <tr>\n",
              "      <th>Insatisfeito</th>\n",
              "      <td>33.791917</td>\n",
              "      <td>66.208083</td>\n",
              "    </tr>\n",
              "    <tr>\n",
              "      <th>Muito Insatisfeito</th>\n",
              "      <td>36.414566</td>\n",
              "      <td>63.585434</td>\n",
              "    </tr>\n",
              "    <tr>\n",
              "      <th>Não Informado</th>\n",
              "      <td>65.745856</td>\n",
              "      <td>34.254144</td>\n",
              "    </tr>\n",
              "  </tbody>\n",
              "</table>\n",
              "</div>"
            ],
            "text/plain": [
              "VB01001             Masculino   Feminino\n",
              "VB11007                                 \n",
              "Muito Satisfeito    58.203125  41.796875\n",
              "Satisfeito          50.433526  49.566474\n",
              "Indiferente         52.573326  47.426674\n",
              "Insatisfeito        33.791917  66.208083\n",
              "Muito Insatisfeito  36.414566  63.585434\n",
              "Não Informado       65.745856  34.254144"
            ]
          },
          "metadata": {
            "tags": []
          },
          "execution_count": 31
        }
      ]
    },
    {
      "cell_type": "markdown",
      "metadata": {
        "id": "UxGq2X-Q8c6M"
      },
      "source": [
        "### **AULA 04 - HISTOGRAMAS E DISTRIBUIÇÕES**"
      ]
    },
    {
      "cell_type": "code",
      "metadata": {
        "id": "Htz8YQrs5vV1"
      },
      "source": [
        "import seaborn as sns\r\n",
        "import matplotlib.pyplot as plt\r\n"
      ],
      "execution_count": 32,
      "outputs": []
    },
    {
      "cell_type": "code",
      "metadata": {
        "id": "DZAkzWNi5vYm",
        "colab": {
          "base_uri": "https://localhost:8080/",
          "height": 0
        },
        "outputId": "cfeee082-5fd8-42ac-c29a-08252a2cd35c"
      },
      "source": [
        "ax = sns.histplot(data= dados, x='VB17004', kde=True, bins='sturges')\r\n",
        "ax.figure.set_size_inches(12,6)\r\n",
        "ax.set_title('Distribuição de Frequência da Altura')\r\n",
        "ax.set_xlabel('Altura')\r\n",
        "plt.axvline(x=dados['VB17004'].mean(), color='k')\r\n",
        "plt.axvline(x=dados['VB17004'].mode()[0], color='r')\r\n",
        "plt.axvline(x=dados['VB17004'].median(), color='g')\r\n",
        "plt.axvline(x=dados['VB17004'].mean() +dados['VB17004'].std() , color='k')\r\n",
        "plt.axvline(x=dados['VB17004'].mean() -dados['VB17004'].std() , color='k')\r\n",
        "plt.axvline(x=dados['VB17004'].mean() -2*(dados['VB17004'].std()) , color='k')\r\n",
        "plt.axvline(x=dados['VB17004'].mean() +2*(dados['VB17004'].std()) , color='k')\r\n",
        "plt.axvline(x=dados['VB17004'].mean() -3*(dados['VB17004'].std()) , color='k')\r\n",
        "plt.axvline(x=dados['VB17004'].mean() +3*(dados['VB17004'].std()) , color='k');"
      ],
      "execution_count": 33,
      "outputs": [
        {
          "output_type": "display_data",
          "data": {
            "image/png": "[encoded data removed]",
            "text/plain": [
              "<Figure size 864x432 with 1 Axes>"
            ]
          },
          "metadata": {
            "tags": [],
            "needs_background": "light"
          }
        }
      ]
    },
    {
      "cell_type": "code",
      "metadata": {
        "id": "KPUTxwf35vb-",
        "colab": {
          "base_uri": "https://localhost:8080/",
          "height": 0
        },
        "outputId": "854b0ec1-973d-465b-f4ff-f65c0825a7d4"
      },
      "source": [
        "ax = sns.histplot(data= dados, x='VB17004', kde=True, bins='sturges', hue='VB01001')\r\n",
        "ax.figure.set_size_inches(12,6)\r\n",
        "ax.set_title('Distribuição de Frequência da Altura por gênero')\r\n",
        "ax.set_xlabel('Altura');"
      ],
      "execution_count": 34,
      "outputs": [
        {
          "output_type": "display_data",
          "data": {
            "image/png": "[encoded data removed]",
            "text/plain": [
              "<Figure size 864x432 with 1 Axes>"
            ]
          },
          "metadata": {
            "tags": [],
            "needs_background": "light"
          }
        }
      ]
    },
    {
      "cell_type": "code",
      "metadata": {
        "id": "7CW8m83t5vfQ",
        "colab": {
          "base_uri": "https://localhost:8080/",
          "height": 0
        },
        "outputId": "4be97706-5240-4bbe-e609-efadcef700e8"
      },
      "source": [
        "ax = sns.histplot(data= dados, x='VB17004', kde=True, bins='sturges', hue='VB01003')\r\n",
        "ax.figure.set_size_inches(12,6)\r\n",
        "ax.set_title('Distribuição de Frequência da Altura')\r\n",
        "ax.set_xlabel('Altura');"
      ],
      "execution_count": 35,
      "outputs": [
        {
          "output_type": "display_data",
          "data": {
            "image/png": "[encoded data removed]",
            "text/plain": [
              "<Figure size 864x432 with 1 Axes>"
            ]
          },
          "metadata": {
            "tags": [],
            "needs_background": "light"
          }
        }
      ]
    },
    {
      "cell_type": "code",
      "metadata": {
        "id": "SRQkWGWG5viu",
        "colab": {
          "base_uri": "https://localhost:8080/",
          "height": 0
        },
        "outputId": "db2f0c34-3e93-4482-ac36-b2913b02ced2"
      },
      "source": [
        "ax = sns.boxplot(data= dados, y='VB17004', x='VB01003')\r\n",
        "ax.figure.set_size_inches(12,6)\r\n",
        "ax.set_title('Distribuição de Frequência da Altura por Idade')\r\n",
        "ax.set_xlabel('Idade')\r\n",
        "ax.set_ylabel('Altura');"
      ],
      "execution_count": 36,
      "outputs": [
        {
          "output_type": "display_data",
          "data": {
            "image/png": "[encoded data removed]",
            "text/plain": [
              "<Figure size 864x432 with 1 Axes>"
            ]
          },
          "metadata": {
            "tags": [],
            "needs_background": "light"
          }
        }
      ]
    },
    {
      "cell_type": "code",
      "metadata": {
        "id": "GY7tZ80txJvy",
        "colab": {
          "base_uri": "https://localhost:8080/",
          "height": 0
        },
        "outputId": "331ed90e-88d7-4397-90c4-5af92f92e2cd"
      },
      "source": [
        "ax = sns.boxplot(data= dados, y='VB17004', x='VB01003', hue='VB01001')\r\n",
        "ax.figure.set_size_inches(12,6)\r\n",
        "ax.set_title('Distribuição de Frequência da Altura por Idade')\r\n",
        "ax.set_xlabel('Idade')\r\n",
        "ax.set_ylabel('Altura');"
      ],
      "execution_count": 37,
      "outputs": [
        {
          "output_type": "display_data",
          "data": {
            "image/png": "[encoded data removed]",
            "text/plain": [
              "<Figure size 864x432 with 1 Axes>"
            ]
          },
          "metadata": {
            "tags": [],
            "needs_background": "light"
          }
        }
      ]
    },
    {
      "cell_type": "code",
      "metadata": {
        "colab": {
          "base_uri": "https://localhost:8080/",
          "height": 0
        },
        "id": "-ZCRkdOwxFv9",
        "outputId": "e46f32f2-eff2-41aa-a27b-8391f6868755"
      },
      "source": [
        "ax = sns.histplot(data= dados, \r\n",
        "                  x='VB17004', \r\n",
        "                  kde=True, \r\n",
        "                  cumulative=True,\r\n",
        "                  stat='density')\r\n",
        "ax.figure.set_size_inches(12,6)\r\n",
        "ax.set_title('Histograma Cumulativo')\r\n",
        "ax.set_xlabel('Altura');\r\n"
      ],
      "execution_count": 38,
      "outputs": [
        {
          "output_type": "display_data",
          "data": {
            "image/png": "[encoded data removed]",
            "text/plain": [
              "<Figure size 864x432 with 1 Axes>"
            ]
          },
          "metadata": {
            "tags": [],
            "needs_background": "light"
          }
        }
      ]
    },
    {
      "cell_type": "markdown",
      "metadata": {
        "id": "VHGqBhTUwTsy"
      },
      "source": [
        "### **AULA 05 - MEDIDA DE CENTRALIDADE E DISPERSÃO**"
      ]
    },
    {
      "cell_type": "code",
      "metadata": {
        "id": "5ryLAmF7xFzp",
        "colab": {
          "base_uri": "https://localhost:8080/"
        },
        "outputId": "6690ef1b-ae88-4cbe-9237-9983f6bdd404"
      },
      "source": [
        "#calculando a média por grupo (gênero)\r\n",
        "dados.groupby('VB01001')['VB17004'].mean()"
      ],
      "execution_count": 39,
      "outputs": [
        {
          "output_type": "execute_result",
          "data": {
            "text/plain": [
              "VB01001\n",
              "1    163.860758\n",
              "2    157.558617\n",
              "Name: VB17004, dtype: float64"
            ]
          },
          "metadata": {
            "tags": []
          },
          "execution_count": 39
        }
      ]
    },
    {
      "cell_type": "code",
      "metadata": {
        "id": "ywLo-JTjxF3r"
      },
      "source": [
        "#calculando a moda"
      ],
      "execution_count": 40,
      "outputs": []
    },
    {
      "cell_type": "code",
      "metadata": {
        "id": "O7w473hixF6s",
        "colab": {
          "base_uri": "https://localhost:8080/"
        },
        "outputId": "7ca22641-c0dd-4703-e1bc-c059844090b2"
      },
      "source": [
        "dados['VB17004'].mode()"
      ],
      "execution_count": 41,
      "outputs": [
        {
          "output_type": "execute_result",
          "data": {
            "text/plain": [
              "0    160.0\n",
              "dtype: float64"
            ]
          },
          "metadata": {
            "tags": []
          },
          "execution_count": 41
        }
      ]
    },
    {
      "cell_type": "code",
      "metadata": {
        "id": "fnHIvbbNxF98",
        "colab": {
          "base_uri": "https://localhost:8080/"
        },
        "outputId": "956c3e77-3937-4458-87c6-0e6ebb13a0d5"
      },
      "source": [
        "#calculando a média por grupos (gênero/idade)\r\n",
        "dados.groupby(['VB01001', 'VB01003'])['VB17004'].mean()"
      ],
      "execution_count": 42,
      "outputs": [
        {
          "output_type": "execute_result",
          "data": {
            "text/plain": [
              "VB01001  VB01003\n",
              "1        11         147.617753\n",
              "         12         153.696764\n",
              "         13         160.719801\n",
              "         14         166.406922\n",
              "         15         170.336297\n",
              "         16         172.424933\n",
              "         17         173.814341\n",
              "         18         173.024561\n",
              "         19         172.143158\n",
              "2        11         149.522512\n",
              "         12         154.965021\n",
              "         13         157.673105\n",
              "         14         159.340320\n",
              "         15         160.759848\n",
              "         16         160.386527\n",
              "         17         160.907937\n",
              "         18         159.438462\n",
              "         19         158.977193\n",
              "Name: VB17004, dtype: float64"
            ]
          },
          "metadata": {
            "tags": []
          },
          "execution_count": 42
        }
      ]
    },
    {
      "cell_type": "code",
      "metadata": {
        "id": "SggJbmqLxGBL"
      },
      "source": [
        "#calculando dispersão na mão\r\n",
        "media_altura = dados['VB17004'].mean()\r\n",
        "dados['MEDIA_ALTURA'] = media_altura"
      ],
      "execution_count": 43,
      "outputs": []
    },
    {
      "cell_type": "code",
      "metadata": {
        "colab": {
          "base_uri": "https://localhost:8080/",
          "height": 0
        },
        "id": "vkFn1xqD7An_",
        "outputId": "f19aeddd-c400-41f6-ca7b-f4486bf8f35e"
      },
      "source": [
        "dados[['VB17004', 'MEDIA_ALTURA']]"
      ],
      "execution_count": 44,
      "outputs": [
        {
          "output_type": "execute_result",
          "data": {
            "text/html": [
              "<div>\n",
              "<style scoped>\n",
              "    .dataframe tbody tr th:only-of-type {\n",
              "        vertical-align: middle;\n",
              "    }\n",
              "\n",
              "    .dataframe tbody tr th {\n",
              "        vertical-align: top;\n",
              "    }\n",
              "\n",
              "    .dataframe thead th {\n",
              "        text-align: right;\n",
              "    }\n",
              "</style>\n",
              "<table border=\"1\" class=\"dataframe\">\n",
              "  <thead>\n",
              "    <tr style=\"text-align: right;\">\n",
              "      <th></th>\n",
              "      <th>VB17004</th>\n",
              "      <th>MEDIA_ALTURA</th>\n",
              "    </tr>\n",
              "  </thead>\n",
              "  <tbody>\n",
              "    <tr>\n",
              "      <th>0</th>\n",
              "      <td>157.0</td>\n",
              "      <td>160.713113</td>\n",
              "    </tr>\n",
              "    <tr>\n",
              "      <th>1</th>\n",
              "      <td>152.0</td>\n",
              "      <td>160.713113</td>\n",
              "    </tr>\n",
              "    <tr>\n",
              "      <th>2</th>\n",
              "      <td>161.4</td>\n",
              "      <td>160.713113</td>\n",
              "    </tr>\n",
              "    <tr>\n",
              "      <th>3</th>\n",
              "      <td>172.5</td>\n",
              "      <td>160.713113</td>\n",
              "    </tr>\n",
              "    <tr>\n",
              "      <th>4</th>\n",
              "      <td>167.5</td>\n",
              "      <td>160.713113</td>\n",
              "    </tr>\n",
              "    <tr>\n",
              "      <th>...</th>\n",
              "      <td>...</td>\n",
              "      <td>...</td>\n",
              "    </tr>\n",
              "    <tr>\n",
              "      <th>16551</th>\n",
              "      <td>167.9</td>\n",
              "      <td>160.713113</td>\n",
              "    </tr>\n",
              "    <tr>\n",
              "      <th>16552</th>\n",
              "      <td>185.8</td>\n",
              "      <td>160.713113</td>\n",
              "    </tr>\n",
              "    <tr>\n",
              "      <th>16553</th>\n",
              "      <td>159.4</td>\n",
              "      <td>160.713113</td>\n",
              "    </tr>\n",
              "    <tr>\n",
              "      <th>16554</th>\n",
              "      <td>157.8</td>\n",
              "      <td>160.713113</td>\n",
              "    </tr>\n",
              "    <tr>\n",
              "      <th>16555</th>\n",
              "      <td>163.9</td>\n",
              "      <td>160.713113</td>\n",
              "    </tr>\n",
              "  </tbody>\n",
              "</table>\n",
              "<p>16556 rows × 2 columns</p>\n",
              "</div>"
            ],
            "text/plain": [
              "       VB17004  MEDIA_ALTURA\n",
              "0        157.0    160.713113\n",
              "1        152.0    160.713113\n",
              "2        161.4    160.713113\n",
              "3        172.5    160.713113\n",
              "4        167.5    160.713113\n",
              "...        ...           ...\n",
              "16551    167.9    160.713113\n",
              "16552    185.8    160.713113\n",
              "16553    159.4    160.713113\n",
              "16554    157.8    160.713113\n",
              "16555    163.9    160.713113\n",
              "\n",
              "[16556 rows x 2 columns]"
            ]
          },
          "metadata": {
            "tags": []
          },
          "execution_count": 44
        }
      ]
    },
    {
      "cell_type": "code",
      "metadata": {
        "id": "Y45FOpEJ7ArU"
      },
      "source": [
        "#calcular a diferença entre a altura e a média\r\n",
        "diferenca_das_medias = dados['VB17004'] - media_altura\r\n",
        "dados['DIFERENCA_MEDIA'] = diferenca_das_medias"
      ],
      "execution_count": 45,
      "outputs": []
    },
    {
      "cell_type": "code",
      "metadata": {
        "colab": {
          "base_uri": "https://localhost:8080/",
          "height": 0
        },
        "id": "dPDznhIm7Auv",
        "outputId": "4e3a91e1-2bee-4764-c5d1-ece5264e4011"
      },
      "source": [
        "#visualizando as diferenças\r\n",
        "dados[['VB17004', 'MEDIA_ALTURA', 'DIFERENCA_MEDIA']]"
      ],
      "execution_count": 46,
      "outputs": [
        {
          "output_type": "execute_result",
          "data": {
            "text/html": [
              "<div>\n",
              "<style scoped>\n",
              "    .dataframe tbody tr th:only-of-type {\n",
              "        vertical-align: middle;\n",
              "    }\n",
              "\n",
              "    .dataframe tbody tr th {\n",
              "        vertical-align: top;\n",
              "    }\n",
              "\n",
              "    .dataframe thead th {\n",
              "        text-align: right;\n",
              "    }\n",
              "</style>\n",
              "<table border=\"1\" class=\"dataframe\">\n",
              "  <thead>\n",
              "    <tr style=\"text-align: right;\">\n",
              "      <th></th>\n",
              "      <th>VB17004</th>\n",
              "      <th>MEDIA_ALTURA</th>\n",
              "      <th>DIFERENCA_MEDIA</th>\n",
              "    </tr>\n",
              "  </thead>\n",
              "  <tbody>\n",
              "    <tr>\n",
              "      <th>0</th>\n",
              "      <td>157.0</td>\n",
              "      <td>160.713113</td>\n",
              "      <td>-3.713113</td>\n",
              "    </tr>\n",
              "    <tr>\n",
              "      <th>1</th>\n",
              "      <td>152.0</td>\n",
              "      <td>160.713113</td>\n",
              "      <td>-8.713113</td>\n",
              "    </tr>\n",
              "    <tr>\n",
              "      <th>2</th>\n",
              "      <td>161.4</td>\n",
              "      <td>160.713113</td>\n",
              "      <td>0.686887</td>\n",
              "    </tr>\n",
              "    <tr>\n",
              "      <th>3</th>\n",
              "      <td>172.5</td>\n",
              "      <td>160.713113</td>\n",
              "      <td>11.786887</td>\n",
              "    </tr>\n",
              "    <tr>\n",
              "      <th>4</th>\n",
              "      <td>167.5</td>\n",
              "      <td>160.713113</td>\n",
              "      <td>6.786887</td>\n",
              "    </tr>\n",
              "    <tr>\n",
              "      <th>...</th>\n",
              "      <td>...</td>\n",
              "      <td>...</td>\n",
              "      <td>...</td>\n",
              "    </tr>\n",
              "    <tr>\n",
              "      <th>16551</th>\n",
              "      <td>167.9</td>\n",
              "      <td>160.713113</td>\n",
              "      <td>7.186887</td>\n",
              "    </tr>\n",
              "    <tr>\n",
              "      <th>16552</th>\n",
              "      <td>185.8</td>\n",
              "      <td>160.713113</td>\n",
              "      <td>25.086887</td>\n",
              "    </tr>\n",
              "    <tr>\n",
              "      <th>16553</th>\n",
              "      <td>159.4</td>\n",
              "      <td>160.713113</td>\n",
              "      <td>-1.313113</td>\n",
              "    </tr>\n",
              "    <tr>\n",
              "      <th>16554</th>\n",
              "      <td>157.8</td>\n",
              "      <td>160.713113</td>\n",
              "      <td>-2.913113</td>\n",
              "    </tr>\n",
              "    <tr>\n",
              "      <th>16555</th>\n",
              "      <td>163.9</td>\n",
              "      <td>160.713113</td>\n",
              "      <td>3.186887</td>\n",
              "    </tr>\n",
              "  </tbody>\n",
              "</table>\n",
              "<p>16556 rows × 3 columns</p>\n",
              "</div>"
            ],
            "text/plain": [
              "       VB17004  MEDIA_ALTURA  DIFERENCA_MEDIA\n",
              "0        157.0    160.713113        -3.713113\n",
              "1        152.0    160.713113        -8.713113\n",
              "2        161.4    160.713113         0.686887\n",
              "3        172.5    160.713113        11.786887\n",
              "4        167.5    160.713113         6.786887\n",
              "...        ...           ...              ...\n",
              "16551    167.9    160.713113         7.186887\n",
              "16552    185.8    160.713113        25.086887\n",
              "16553    159.4    160.713113        -1.313113\n",
              "16554    157.8    160.713113        -2.913113\n",
              "16555    163.9    160.713113         3.186887\n",
              "\n",
              "[16556 rows x 3 columns]"
            ]
          },
          "metadata": {
            "tags": []
          },
          "execution_count": 46
        }
      ]
    },
    {
      "cell_type": "code",
      "metadata": {
        "id": "jvVlOw8N7Axs"
      },
      "source": [
        "DIFERENCA_QUADRADO = diferenca_das_medias**2\r\n",
        "dados['DIFERENCA_QUADRADO'] = DIFERENCA_QUADRADO"
      ],
      "execution_count": 47,
      "outputs": []
    },
    {
      "cell_type": "code",
      "metadata": {
        "colab": {
          "base_uri": "https://localhost:8080/",
          "height": 0
        },
        "id": "DLh1_QNf7A0_",
        "outputId": "d108b8b0-11f0-41f3-a096-8a2c2daa34dc"
      },
      "source": [
        "#visualizando as diferenças\r\n",
        "dados[['VB17004', 'MEDIA_ALTURA', 'DIFERENCA_MEDIA', 'DIFERENCA_QUADRADO']]\r\n"
      ],
      "execution_count": 48,
      "outputs": [
        {
          "output_type": "execute_result",
          "data": {
            "text/html": [
              "<div>\n",
              "<style scoped>\n",
              "    .dataframe tbody tr th:only-of-type {\n",
              "        vertical-align: middle;\n",
              "    }\n",
              "\n",
              "    .dataframe tbody tr th {\n",
              "        vertical-align: top;\n",
              "    }\n",
              "\n",
              "    .dataframe thead th {\n",
              "        text-align: right;\n",
              "    }\n",
              "</style>\n",
              "<table border=\"1\" class=\"dataframe\">\n",
              "  <thead>\n",
              "    <tr style=\"text-align: right;\">\n",
              "      <th></th>\n",
              "      <th>VB17004</th>\n",
              "      <th>MEDIA_ALTURA</th>\n",
              "      <th>DIFERENCA_MEDIA</th>\n",
              "      <th>DIFERENCA_QUADRADO</th>\n",
              "    </tr>\n",
              "  </thead>\n",
              "  <tbody>\n",
              "    <tr>\n",
              "      <th>0</th>\n",
              "      <td>157.0</td>\n",
              "      <td>160.713113</td>\n",
              "      <td>-3.713113</td>\n",
              "      <td>13.787209</td>\n",
              "    </tr>\n",
              "    <tr>\n",
              "      <th>1</th>\n",
              "      <td>152.0</td>\n",
              "      <td>160.713113</td>\n",
              "      <td>-8.713113</td>\n",
              "      <td>75.918339</td>\n",
              "    </tr>\n",
              "    <tr>\n",
              "      <th>2</th>\n",
              "      <td>161.4</td>\n",
              "      <td>160.713113</td>\n",
              "      <td>0.686887</td>\n",
              "      <td>0.471814</td>\n",
              "    </tr>\n",
              "    <tr>\n",
              "      <th>3</th>\n",
              "      <td>172.5</td>\n",
              "      <td>160.713113</td>\n",
              "      <td>11.786887</td>\n",
              "      <td>138.930703</td>\n",
              "    </tr>\n",
              "    <tr>\n",
              "      <th>4</th>\n",
              "      <td>167.5</td>\n",
              "      <td>160.713113</td>\n",
              "      <td>6.786887</td>\n",
              "      <td>46.061834</td>\n",
              "    </tr>\n",
              "    <tr>\n",
              "      <th>...</th>\n",
              "      <td>...</td>\n",
              "      <td>...</td>\n",
              "      <td>...</td>\n",
              "      <td>...</td>\n",
              "    </tr>\n",
              "    <tr>\n",
              "      <th>16551</th>\n",
              "      <td>167.9</td>\n",
              "      <td>160.713113</td>\n",
              "      <td>7.186887</td>\n",
              "      <td>51.651344</td>\n",
              "    </tr>\n",
              "    <tr>\n",
              "      <th>16552</th>\n",
              "      <td>185.8</td>\n",
              "      <td>160.713113</td>\n",
              "      <td>25.086887</td>\n",
              "      <td>629.351896</td>\n",
              "    </tr>\n",
              "    <tr>\n",
              "      <th>16553</th>\n",
              "      <td>159.4</td>\n",
              "      <td>160.713113</td>\n",
              "      <td>-1.313113</td>\n",
              "      <td>1.724266</td>\n",
              "    </tr>\n",
              "    <tr>\n",
              "      <th>16554</th>\n",
              "      <td>157.8</td>\n",
              "      <td>160.713113</td>\n",
              "      <td>-2.913113</td>\n",
              "      <td>8.486228</td>\n",
              "    </tr>\n",
              "    <tr>\n",
              "      <th>16555</th>\n",
              "      <td>163.9</td>\n",
              "      <td>160.713113</td>\n",
              "      <td>3.186887</td>\n",
              "      <td>10.156248</td>\n",
              "    </tr>\n",
              "  </tbody>\n",
              "</table>\n",
              "<p>16556 rows × 4 columns</p>\n",
              "</div>"
            ],
            "text/plain": [
              "       VB17004  MEDIA_ALTURA  DIFERENCA_MEDIA  DIFERENCA_QUADRADO\n",
              "0        157.0    160.713113        -3.713113           13.787209\n",
              "1        152.0    160.713113        -8.713113           75.918339\n",
              "2        161.4    160.713113         0.686887            0.471814\n",
              "3        172.5    160.713113        11.786887          138.930703\n",
              "4        167.5    160.713113         6.786887           46.061834\n",
              "...        ...           ...              ...                 ...\n",
              "16551    167.9    160.713113         7.186887           51.651344\n",
              "16552    185.8    160.713113        25.086887          629.351896\n",
              "16553    159.4    160.713113        -1.313113            1.724266\n",
              "16554    157.8    160.713113        -2.913113            8.486228\n",
              "16555    163.9    160.713113         3.186887           10.156248\n",
              "\n",
              "[16556 rows x 4 columns]"
            ]
          },
          "metadata": {
            "tags": []
          },
          "execution_count": 48
        }
      ]
    },
    {
      "cell_type": "code",
      "metadata": {
        "colab": {
          "base_uri": "https://localhost:8080/"
        },
        "id": "Fc8N2YGT9uf8",
        "outputId": "c21b22bd-4572-4c7e-ded7-959d1ff095c1"
      },
      "source": [
        "dados['DIFERENCA_QUADRADO'].mean()"
      ],
      "execution_count": 49,
      "outputs": [
        {
          "output_type": "execute_result",
          "data": {
            "text/plain": [
              "106.9105945368652"
            ]
          },
          "metadata": {
            "tags": []
          },
          "execution_count": 49
        }
      ]
    },
    {
      "cell_type": "code",
      "metadata": {
        "colab": {
          "base_uri": "https://localhost:8080/"
        },
        "id": "7TE8a10k9ujX",
        "outputId": "a288b2ca-ea7b-4a75-bf71-416d4b604673"
      },
      "source": [
        "variancia_amostral = ((1/(len(dados)-1) )*dados['DIFERENCA_QUADRADO'].sum())\r\n",
        "variancia_amostral"
      ],
      "execution_count": 50,
      "outputs": [
        {
          "output_type": "execute_result",
          "data": {
            "text/plain": [
              "106.91705244049119"
            ]
          },
          "metadata": {
            "tags": []
          },
          "execution_count": 50
        }
      ]
    },
    {
      "cell_type": "code",
      "metadata": {
        "id": "gtRb23G89umv",
        "colab": {
          "base_uri": "https://localhost:8080/"
        },
        "outputId": "6cbf96c7-41fd-48db-f301-8f685eb55890"
      },
      "source": [
        "dados['VB17004'].mean()"
      ],
      "execution_count": 51,
      "outputs": [
        {
          "output_type": "execute_result",
          "data": {
            "text/plain": [
              "160.71311307078818"
            ]
          },
          "metadata": {
            "tags": []
          },
          "execution_count": 51
        }
      ]
    },
    {
      "cell_type": "code",
      "metadata": {
        "id": "qlN8WZZt9up3"
      },
      "source": [
        "desvio_padrao = np.sqrt(variancia_amostral)"
      ],
      "execution_count": 52,
      "outputs": []
    },
    {
      "cell_type": "code",
      "metadata": {
        "colab": {
          "base_uri": "https://localhost:8080/"
        },
        "id": "Ttay1-FT9usi",
        "outputId": "85e786e7-6889-4366-87af-a748ba240b88"
      },
      "source": [
        "#O desvio padrão é expressado na mesma medida que a medida da amostra, (no caso da altura, centímetros)\r\n",
        "desvio_padrao"
      ],
      "execution_count": 53,
      "outputs": [
        {
          "output_type": "execute_result",
          "data": {
            "text/plain": [
              "10.340070233827776"
            ]
          },
          "metadata": {
            "tags": []
          },
          "execution_count": 53
        }
      ]
    },
    {
      "cell_type": "code",
      "metadata": {
        "colab": {
          "base_uri": "https://localhost:8080/"
        },
        "id": "jO1ttqUd-yFq",
        "outputId": "0e75e18d-90df-46bc-a5c5-f46856a501a8"
      },
      "source": [
        "dados['VB17004'].std()"
      ],
      "execution_count": 54,
      "outputs": [
        {
          "output_type": "execute_result",
          "data": {
            "text/plain": [
              "10.3400702338278"
            ]
          },
          "metadata": {
            "tags": []
          },
          "execution_count": 54
        }
      ]
    },
    {
      "cell_type": "markdown",
      "metadata": {
        "id": "fMj6jBqEAOKS"
      },
      "source": [
        "### **AULA 06 - INTERVALO DE CONFIANÇA E TESTES**"
      ]
    },
    {
      "cell_type": "code",
      "metadata": {
        "id": "bLB2DRW110xN"
      },
      "source": [
        "from statsmodels.stats.weightstats import zconfint\r\n",
        "from statsmodels.stats.weightstats import DescrStatsW\r\n",
        "from statsmodels.stats.weightstats import ztest"
      ],
      "execution_count": 68,
      "outputs": []
    },
    {
      "cell_type": "code",
      "metadata": {
        "id": "o_6tAksk-yJK",
        "colab": {
          "base_uri": "https://localhost:8080/"
        },
        "outputId": "bccff7b7-3f43-4224-8071-26f873c49bce"
      },
      "source": [
        "#Calculando o intervalo de confiança com o Z Test\r\n",
        "zconfint(dados[\"VB17004\"].to_list())"
      ],
      "execution_count": 60,
      "outputs": [
        {
          "output_type": "execute_result",
          "data": {
            "text/plain": [
              "(160.5556082427712, 160.87061789880892)"
            ]
          },
          "metadata": {
            "tags": []
          },
          "execution_count": 60
        }
      ]
    },
    {
      "cell_type": "code",
      "metadata": {
        "id": "7anWRaQC-yMu",
        "colab": {
          "base_uri": "https://localhost:8080/"
        },
        "outputId": "8db348ae-eebd-47a8-ac36-730d58245c12"
      },
      "source": [
        "#Calculando o intervalo de confiança usando o Tconfint\r\n",
        "descricao_altura = DescrStatsW(dados[\"VB17004\"])\r\n",
        "descricao_altura.tconfint_mean()"
      ],
      "execution_count": 59,
      "outputs": [
        {
          "output_type": "execute_result",
          "data": {
            "text/plain": [
              "(160.55559672649298, 160.8706294150872)"
            ]
          },
          "metadata": {
            "tags": []
          },
          "execution_count": 59
        }
      ]
    },
    {
      "cell_type": "code",
      "metadata": {
        "id": "107GtkaC-yPw",
        "colab": {
          "base_uri": "https://localhost:8080/",
          "height": 388
        },
        "outputId": "669f1878-4588-4d68-d8d0-9febb01f8cb7"
      },
      "source": [
        "#boxplot\r\n",
        "plt.figure(figsize=(12,6))\r\n",
        "sns.boxplot(x = \"VB01001\", y = \"VB17004\", data= dados);"
      ],
      "execution_count": 65,
      "outputs": [
        {
          "output_type": "display_data",
          "data": {
            "image/png": "[encoded data removed]",
            "text/plain": [
              "<Figure size 864x432 with 1 Axes>"
            ]
          },
          "metadata": {
            "tags": [],
            "needs_background": "light"
          }
        }
      ]
    },
    {
      "cell_type": "code",
      "metadata": {
        "id": "vmmwpbMY_2bH"
      },
      "source": [
        "distribuicao_altura_m = dados.query(\"VB01001 == 1\")[\"VB17004\"]\r\n",
        "distribuicao_altura_f = dados.query(\"VB01001 == 2\")[\"VB17004\"]"
      ],
      "execution_count": 70,
      "outputs": []
    },
    {
      "cell_type": "code",
      "metadata": {
        "colab": {
          "base_uri": "https://localhost:8080/"
        },
        "id": "m1cCdXvb_cdB",
        "outputId": "b22b61ef-295f-4ae7-8665-7cca9043dfd1"
      },
      "source": [
        "ztest(distribuicao_altura_m, distribuicao_altura_f) "
      ],
      "execution_count": 77,
      "outputs": [
        {
          "output_type": "execute_result",
          "data": {
            "text/plain": [
              "(41.16851708819389, 0.0)"
            ]
          },
          "metadata": {
            "tags": []
          },
          "execution_count": 77
        }
      ]
    },
    {
      "cell_type": "code",
      "metadata": {
        "id": "Al0uSWw3_cgV"
      },
      "source": [
        "#o p_value testa se as médias entre essas distribuições são iguais (Hipótese Nula)\r\n",
        "statistics, p_value = ztest(distribuicao_altura_m, distribuicao_altura_f) "
      ],
      "execution_count": 78,
      "outputs": []
    },
    {
      "cell_type": "code",
      "metadata": {
        "colab": {
          "base_uri": "https://localhost:8080/"
        },
        "id": "Og3q3l-1_cjQ",
        "outputId": "fcac2831-fa35-404c-e3a4-eb1766c6f787"
      },
      "source": [
        "p_value"
      ],
      "execution_count": 79,
      "outputs": [
        {
          "output_type": "execute_result",
          "data": {
            "text/plain": [
              "0.0"
            ]
          },
          "metadata": {
            "tags": []
          },
          "execution_count": 79
        }
      ]
    },
    {
      "cell_type": "code",
      "metadata": {
        "colab": {
          "base_uri": "https://localhost:8080/"
        },
        "id": "dgpHGFlr_cmq",
        "outputId": "f2f87234-c0b9-4350-e673-15fc87e7851a"
      },
      "source": [
        "#comparando distribuições iguais só para confirmar o conceito de p_value\r\n",
        "ztest(distribuicao_altura_m, distribuicao_altura_m) \r\n"
      ],
      "execution_count": 76,
      "outputs": [
        {
          "output_type": "execute_result",
          "data": {
            "text/plain": [
              "(0.0, 1.0)"
            ]
          },
          "metadata": {
            "tags": []
          },
          "execution_count": 76
        }
      ]
    },
    {
      "cell_type": "code",
      "metadata": {
        "colab": {
          "base_uri": "https://localhost:8080/"
        },
        "id": "UhvjyvX8_cqm",
        "outputId": "03fd604e-96af-40cd-ad25-46dbd4a55269"
      },
      "source": [
        "#fazendo o teste de normalidade para a distribuição de alturas do gênero masculino\r\n",
        "from scipy.stats import normaltest\r\n",
        "#rejeitamos a hipótese nula de que é uma distribuição normal\r\n",
        "normaltest(distribuicao_altura_m)"
      ],
      "execution_count": 80,
      "outputs": [
        {
          "output_type": "execute_result",
          "data": {
            "text/plain": [
              "NormaltestResult(statistic=341.30659152353655, pvalue=7.695118853996524e-75)"
            ]
          },
          "metadata": {
            "tags": []
          },
          "execution_count": 80
        }
      ]
    },
    {
      "cell_type": "code",
      "metadata": {
        "colab": {
          "base_uri": "https://localhost:8080/"
        },
        "id": "HuFZQTNt_csr",
        "outputId": "96568c27-06fd-4271-a4b9-970019bd927d"
      },
      "source": [
        "#rejeitamos a hipótese nula de que é uma distribuição normal\r\n",
        "normaltest(distribuicao_altura_f)"
      ],
      "execution_count": 82,
      "outputs": [
        {
          "output_type": "execute_result",
          "data": {
            "text/plain": [
              "NormaltestResult(statistic=212.51572610499005, pvalue=7.125189471020874e-47)"
            ]
          },
          "metadata": {
            "tags": []
          },
          "execution_count": 82
        }
      ]
    },
    {
      "cell_type": "code",
      "metadata": {
        "colab": {
          "base_uri": "https://localhost:8080/"
        },
        "id": "1sy23wSk_cvu",
        "outputId": "05434974-a034-4233-cd9c-bf54823b5514"
      },
      "source": [
        "_, p_value_normaltest_m = normaltest(distribuicao_altura_m)\r\n",
        "_, p_value_normaltest_f = normaltest(distribuicao_altura_f)\r\n",
        "\r\n",
        "print(p_value_normaltest_m)\r\n",
        "print(p_value_normaltest_f)"
      ],
      "execution_count": 84,
      "outputs": [
        {
          "output_type": "stream",
          "text": [
            "7.695118853996524e-75\n",
            "7.125189471020874e-47\n"
          ],
          "name": "stdout"
        }
      ]
    },
    {
      "cell_type": "code",
      "metadata": {
        "colab": {
          "base_uri": "https://localhost:8080/"
        },
        "id": "CyoruoiEE1a4",
        "outputId": "ee19b77f-2290-4a40-e9d5-ee323eccefc6"
      },
      "source": [
        "#Aplicando testes não paramétricos\r\n",
        "from scipy.stats import ranksums\r\n",
        "#verificando como hipótese nula se essas minhas duas distribuições são provenientes da mesma distribuição\r\n",
        "ranksums(distribuicao_altura_m, distribuicao_altura_f)\r\n"
      ],
      "execution_count": 86,
      "outputs": [
        {
          "output_type": "execute_result",
          "data": {
            "text/plain": [
              "RanksumsResult(statistic=40.7525576033863, pvalue=0.0)"
            ]
          },
          "metadata": {
            "tags": []
          },
          "execution_count": 86
        }
      ]
    },
    {
      "cell_type": "code",
      "metadata": {
        "id": "93KxAud0E1eU"
      },
      "source": [
        ""
      ],
      "execution_count": null,
      "outputs": []
    },
    {
      "cell_type": "code",
      "metadata": {
        "id": "rB7gv-xNE1iC"
      },
      "source": [
        ""
      ],
      "execution_count": null,
      "outputs": []
    },
    {
      "cell_type": "code",
      "metadata": {
        "id": "X2lThhOYE1ky"
      },
      "source": [
        ""
      ],
      "execution_count": null,
      "outputs": []
    },
    {
      "cell_type": "code",
      "metadata": {
        "id": "4khDpL31E1op"
      },
      "source": [
        ""
      ],
      "execution_count": null,
      "outputs": []
    },
    {
      "cell_type": "markdown",
      "metadata": {
        "id": "XdAFErbdQ_Sk"
      },
      "source": [
        "**Desafio 01**- Descompactar a pasta zipada usando outro método (Dica Allan, é utilizar comandos Bash).\r\n",
        "\r\n",
        "**Desafio 02** - Estudar sobre a base de dados que vamos trabalhar. (PeNSE - 2015 Amostra 2)\r\n",
        "\r\n",
        "**Desafio 03** - Classificar algumas perguntas como QualitativaXQuantitativa\r\n",
        "\r\n",
        "**Desafio 04** - Gerar uma função para gerar as tabelas de frequência e fazer a análise de outras informações\r\n",
        "\r\n",
        "**Desafio 05** - Criar uma tabela de frequencia para o peso\r\n",
        "\r\n",
        "**Desafio 06** - Criar outros Crosstabs para análise e pesquisar sobre o parâmetro aggfunc e testar\r\n",
        "\r\n",
        "**Desafio 07** - Calcular e plotar desvio padrão, média, moda e mediana no histograma da altura\r\n",
        "\r\n",
        "**Desafio 08** - Calcular os outliers (IIQ)\r\n",
        "\r\n",
        "**Desafio 09** - Fazer a descrição  de outras variáveis\r\n",
        "\r\n",
        "**Desafio 10** - Média de altura por idade e gênero via crosstab\r\n",
        "\r\n",
        "**Desafio 11** - O que é intervalo de confiança, nível confiança e o que é significância.\r\n",
        "\r\n",
        "**Desafio 12** - plotar o intervalo de confiança no histograma das alturas\r\n",
        "\r\n",
        "**Desafio 13** - Como será que é a distribuição do IMC para as pessoas que estão satisfeitas com o seu corpo? Ela é estatisticamente diferente da distribuição das pessoas que estão insatisfeitas com o seu corpo? Como eu consigo comprovar isso através do teste de hipótese? Fica aí o desafio para vocês brincarem, para vocês estudarem e explorarem ainda mais essa parte de testes.\r\n",
        "\r\n",
        "**Desafio 14** - Realizar os testes de hipóteses de outras colunas\r\n",
        "\r\n",
        "**Super Desafio 1** - Criar um dicionário para organizar/facilitar a busca da pergunta\r\n",
        "\r\n",
        "**Super Desafio 2** - Usar NLP para buscar os termos relevantes (NLTK GESIM) nas perguntas\r\n",
        "\r\n",
        "\r\n"
      ]
    },
    {
      "cell_type": "code",
      "metadata": {
        "id": "f8_HgaLm-xWS"
      },
      "source": [
        ""
      ],
      "execution_count": 55,
      "outputs": []
    },
    {
      "cell_type": "code",
      "metadata": {
        "id": "ItMgY4_-wxcx"
      },
      "source": [
        ""
      ],
      "execution_count": 55,
      "outputs": []
    }
  ]
}